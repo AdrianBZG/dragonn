{
 "cells": [
  {
   "cell_type": "markdown",
   "metadata": {},
   "source": [
    "Todo: \n",
    "* investigate nan's in test set \n",
    "* threshold motif scores at 0 \n",
    "* overlay motif scores and deepLIFT tracks \n",
    "* add grad x input \n",
    "* PRC curves \n",
    "* option of shuffled reference & background frequencies for deepLIFT \n",
    "* fixed axes on deepLIFT plots\n",
    "\n",
    "\n",
    "# How to train your DragoNN tutorial 3: \n",
    "## Interpreting features induced by DNN's across multiple types of motif grammars \n",
    "\n",
    "This tutorial is a supplement to the DragoNN manuscript and follows figure 7 in the manuscript. \n",
    "\n",
    "This tutorial will take 1 hour  if executed on a GPU. \n",
    "\n",
    "Please complete \"Primer Tutorial 1- Exploring model architectures for a homotypic motif density simulation\" prior to completing this tutorial. \n",
    "\n",
    "The architectures used in this tutorial were determined as optimal by hyperparameter grid search in \"Primer Tutorial 3 - CNN Hyperparameter Tuning via Grid Search\"\n",
    "\n",
    "\n",
    "## Outline<a name='outline'>\n",
    "<ol>\n",
    "    <li><a href=#1>How to use this tutorial</a></li>\n",
    "    <li><a href=#2>Defining helper functions for model training and interpretation</a></li>\n",
    "    TODO: explain reference options. \n",
    "    <li><a href=#3>Simulating training data with simdna: Review of Tutorial 1</a></li>\n",
    "    <li><a href=#4>Single Motif</a></li>\n",
    "    <li><a href=#5>Homotypic motif density detection</a></li>\n",
    "    <li><a href=#6>Homotypic motif density localization</a></li>\n",
    "    <li><a href=#7>Multiple motifs (multi-task)</a></li>  \n",
    "    <li><a href=#8>Heterotypic motifs spatial grammar</a></li>\n",
    "    <li><a href=#9>Conclusions</a></li>\n",
    "</ol>\n",
    "Github issues on the dragonn repository with feedback, questions, and discussion are always welcome.\n",
    "\n",
    " "
   ]
  },
  {
   "cell_type": "markdown",
   "metadata": {},
   "source": [
    "## How to use this tutorial<a name='1'>\n",
    "<a href=#outline>Home</a>\n",
    "\n",
    "This tutorial utilizes a Jupyter/IPython Notebook - an interactive computational enviroment that combines live code, visualizations, and explanatory text. The notebook is organized into a series of cells. You can run the next cell by cliking the play button:\n",
    "![play button](./primer_tutorial_images/play_button.png)\n",
    "You can also run all cells in a series by clicking \"run all\" in the Cell drop-down menu:\n",
    "![play all button](./primer_tutorial_images/play_all_button.png)\n",
    "Half of the cells in this tutorial contain code, the other half contain visualizations and explanatory text. Code, visualizations, and text in cells can be modified - you are encouraged to modify the code as you advance through the tutorial. You can inspect the implementation of a function used in a cell by following these steps:\n",
    "![inspecting code](./primer_tutorial_images/inspecting_code.png)\n"
   ]
  },
  {
   "cell_type": "code",
   "execution_count": 1,
   "metadata": {},
   "outputs": [],
   "source": [
    "#uncomment the lines below if you are running this tutorial from Google Colab \n",
    "#!pip install https://github.com/kundajelab/simdna/archive/0.3.zip\n",
    "#!pip install https://github.com/kundajelab/dragonn/archive/keras_2.2_tensorflow_1.6_purekeras.zip\n"
   ]
  },
  {
   "cell_type": "code",
   "execution_count": 2,
   "metadata": {},
   "outputs": [
    {
     "name": "stderr",
     "output_type": "stream",
     "text": [
      "Using TensorFlow backend.\n"
     ]
    }
   ],
   "source": [
    "#To prepare for model training, we import the necessary functions and submodules from keras\n",
    "from keras.models import Sequential\n",
    "from keras.layers.core import Dropout, Reshape, Dense, Activation, Flatten\n",
    "from keras.layers.convolutional import Conv2D, MaxPooling2D\n",
    "from keras.optimizers import Adadelta, SGD, RMSprop;\n",
    "import keras.losses;\n",
    "from keras.constraints import maxnorm;\n",
    "from keras.layers.normalization import BatchNormalization\n",
    "from keras.regularizers import l1, l2\n",
    "from keras.callbacks import EarlyStopping, History\n",
    "from keras import backend as K \n",
    "K.set_image_data_format('channels_last')"
   ]
  },
  {
   "cell_type": "markdown",
   "metadata": {},
   "source": [
    "We start by loading dragonn's tutorial utilities."
   ]
  },
  {
   "cell_type": "code",
   "execution_count": 3,
   "metadata": {},
   "outputs": [
    {
     "name": "stderr",
     "output_type": "stream",
     "text": [
      "/users/annashch/miniconda3/lib/python3.6/site-packages/sklearn/ensemble/weight_boosting.py:29: DeprecationWarning: numpy.core.umath_tests is an internal NumPy module and should not be imported. It will be removed in a future NumPy release.\n",
      "  from numpy.core.umath_tests import inner1d\n"
     ]
    }
   ],
   "source": [
    "#load dragonn tutorial utilities \n",
    "%reload_ext autoreload\n",
    "%autoreload 2\n",
    "%matplotlib inline\n",
    "import warnings\n",
    "warnings.filterwarnings('ignore')\n",
    "\n",
    "from dragonn.tutorial_utils import *"
   ]
  },
  {
   "cell_type": "markdown",
   "metadata": {},
   "source": [
    "## Defining helper functions for model training and interpretation  <a name='2'>\n",
    "<a href=#outline>Home</a>\n"
   ]
  },
  {
   "cell_type": "markdown",
   "metadata": {},
   "source": [
    "For each type of simulation, we will perform a consistent set of tasks: \n",
    "* Define the optimal model architecture, as determined in Tutorial 2. This architecture will be specific to the simulation used, so we don't write a universal helper function for this purpose. \n",
    "* Train the model on simulation data and visualize the model's learning curve on training and validation data. \n",
    "* Compute the model's performance on a held-out test set.\n",
    "* Visualize motif scores for a positive and negative example. \n",
    "* Perform in silico mutagenesis for a positive and negative example.\n",
    "* Compute DeepLIFT scores for a positive and negative example.\n",
    "\n",
    "To avoid writing the same code for each scenario, we define a series of helpers functions to perform the tasks above. "
   ]
  },
  {
   "cell_type": "code",
   "execution_count": 4,
   "metadata": {},
   "outputs": [],
   "source": [
    "from dragonn.callbacks import * \n",
    "from dragonn.tutorial_utils import plot_learning_curve\n",
    "\n",
    "def train_model(model,data):\n",
    "    #We define a custom callback to print training and validation metrics while training. \n",
    "    metrics_callback=MetricsCallback(train_data=(data.X_train,data.y_train),validation_data=(data.X_valid,data.y_valid))\n",
    "    \n",
    "    #Train the model \n",
    "    history=model.fit(x=data.X_train,\n",
    "                                  y=data.y_train,\n",
    "                                  batch_size=128,\n",
    "                                  epochs=150,\n",
    "                                  verbose=0,\n",
    "                                  callbacks=[EarlyStopping(patience=7),\n",
    "                                            History(),\n",
    "                                            metrics_callback],\n",
    "                                  validation_data=(data.X_valid,\n",
    "                                                   data.y_valid))\n",
    "    \n",
    "    #Visualize the model's performance curve \n",
    "    plot_learning_curve(history)\n",
    "    return model"
   ]
  },
  {
   "cell_type": "code",
   "execution_count": 5,
   "metadata": {},
   "outputs": [],
   "source": [
    "#Compute model performance on a held out test set \n",
    "def compute_performance(model,data):\n",
    "    test_predictions=model.predict(data.X_test)\n",
    "    ## Generate a ClassificationResult object to print performance metrics on held-out test set \n",
    "    print(ClassificationResult(data.y_test,test_predictions))\n"
   ]
  },
  {
   "cell_type": "code",
   "execution_count": 6,
   "metadata": {},
   "outputs": [],
   "source": [
    "def extract_pos_and_neg_validation_sample(data,pos_index,neg_index):\n",
    "#get the indices of the specified positive and negative examples in the validation data split\n",
    "    pos_index=np.flatnonzero(data.y_valid==1)[pos_index]\n",
    "    pos_X=data.X_valid[pos_index:pos_index+1]\n",
    "    neg_index=np.flatnonzero(data.y_valid==0)[neg_index]\n",
    "    neg_X=data.X_valid[neg_index:neg_index+1]\n",
    "    return pos_X,neg_X"
   ]
  },
  {
   "cell_type": "code",
   "execution_count": 22,
   "metadata": {},
   "outputs": [],
   "source": [
    "#Visualize motif scores for a positive and negative example \n",
    "#pos_index: index value of a simulated positive datapoint to use for motif visualization \n",
    "#neg_index: index value of a simulated negative datapoint to use for motif visualization \n",
    "def visualize_motif_scores(model,pos_X,neg_X,data): \n",
    "    pos_motif_scores=get_motif_scores(pos_X,data.motif_names,return_positions=True).squeeze()\n",
    "    neg_motif_scores=get_motif_scores(neg_X,data.motif_names,return_positions=True).squeeze()\n",
    "    \n",
    "    plt.figure(figsize=(20,3))\n",
    "    ax1=plt.subplot(211)\n",
    "    ax2=plt.subplot(212)\n",
    "    \n",
    "    ax1.plot(pos_motif_scores, \"-o\")\n",
    "    ax1.set_ylim(0,max(pos_motif_scores))\n",
    "    ax1.set_xlabel(\"Sequence base\")\n",
    "    ax1.set_ylabel(\"Motif scan score\")\n",
    "    ax1.set_title(\"Positive example\")\n",
    "\n",
    "    ax2.plot(neg_motif_scores, \"-o\")\n",
    "    ax2.set_ylim(0,max(pos_motif_scores))\n",
    "    ax2.set_xlabel(\"Sequence base\")\n",
    "    ax2.set_ylabel(\"Motif scan score\")\n",
    "    ax2.set_title(\"Negative example\")\n",
    "    plt.show()\n"
   ]
  },
  {
   "cell_type": "code",
   "execution_count": 8,
   "metadata": {},
   "outputs": [],
   "source": [
    "from dragonn.tutorial_utils import in_silico_mutagenesis, plot_ism\n",
    "\n",
    "def perform_ism(model,pos_X,neg_X,data): \n",
    "    ism_pos=in_silico_mutagenesis(model,pos_X)\n",
    "    ism_neg=in_silico_mutagenesis(model,neg_X)\n",
    "    min_val=min([min(ism_pos),min(ism_neg)])\n",
    "    max_val=max([max(ism_pos),max(ism_neg)])\n",
    "    plot_ism(ism_pos,\"Positive Example\",min_val=min_val,max_val=max_val)\n",
    "    plot_ism(ism_neg,\"Negative Example\",min_val=min_val,max_val=max_val)\n",
    "    return ism_pos, ism_neg"
   ]
  },
  {
   "cell_type": "code",
   "execution_count": 33,
   "metadata": {},
   "outputs": [],
   "source": [
    "from dragonn.tutorial_utils import input_grad\n",
    "\n",
    "def compute_gradxinput_scores(model,pos_X,neg_X,data):\n",
    "    gradinput_pos=input_grad(model,pos_X)\n",
    "    gradinput_neg=input_grad(model,neg_X)\n",
    "    min_val=min([min(gradinput_pos),min(gradinput_neg)])\n",
    "    max_val=max([max(gradinput_pos),max(gradinput_neg)])\n",
    "    plot_seq_importance(gradinput_pos,pos_X,title=\"Positive\",ylim=(min_val,max_val))\n",
    "    plot_seq_importance(gradinput_neg,neg_X,title=\"Negative\",ylim=(min_val,max_val))\n",
    "    return gradinput_pos,gradinput_neg "
   ]
  },
  {
   "cell_type": "code",
   "execution_count": 24,
   "metadata": {},
   "outputs": [],
   "source": [
    "from dragonn.tutorial_utils import deeplift\n",
    "\n",
    "def compute_deeplift_scores(model,pos_X,neg_X,data):\n",
    "    dl_pos=deeplift(model,pos_X)\n",
    "    dl_neg=deeplift(model,neg_X)\n",
    "    min_val=min([min(gradinput_pos),min(gradinput_neg)])\n",
    "    max_val=max([max(gradinput_pos),max(gradinput_neg)])\n",
    "    plot_seq_importance(dl_pos,pos_X,title=\"Positive\",ylim=(min_val,max_val))\n",
    "    plot_seq_importance(dl_neg,neg_X,title=\"Negative\",ylim=(min_val,max_val))\n",
    "    return dl_pos,dl_neg"
   ]
  },
  {
   "cell_type": "code",
   "execution_count": 25,
   "metadata": {},
   "outputs": [],
   "source": [
    "def interpret(model,pos_X,neg_X,data): \n",
    "    visualize_motif_scores(model,pos_X,neg_X,data)\n",
    "    ism_pos,ism_neg=perform_ism(model,pos_X,neg_X,data)\n",
    "    gradinput_pos,gradinput_neg=compute_gradxinput_scores(model,pos_X,neg_X,data)\n",
    "    dl_pos,dl_neg=compute_deeplift_scores(model,pos_X,neg_X,data)\n",
    "    return ism_pos, ism_neg, gradinput_pos, gradinput_neg, dl_pos, dl_neg "
   ]
  },
  {
   "cell_type": "code",
   "execution_count": 26,
   "metadata": {},
   "outputs": [],
   "source": [
    "#Run the full data analysis for a given dataset and model \n",
    "#Train the model, compute it's performance on a positive and negative data point \n",
    "def analyze(model,data,pos_index,neg_index):\n",
    "    model=train_model(model,data)\n",
    "    compute_performance(model,data)\n",
    "    pos_X,neg_X=extract_pos_and_neg_validation_sample(data,pos_index,neg_index)\n",
    "    ism_pos,ism_neg, gradinput_pos, gradinput_neg, dl_pos,dl_neg=interpret(model,pos_X,neg_X,data)\n",
    "    return pos_X, neg_X, ism_pos, ism_neg, gradinput_pos, gradinput_neg, dl_pos,dl_neg"
   ]
  },
  {
   "cell_type": "markdown",
   "metadata": {},
   "source": [
    "Finally, we set a random seed to ensure that all analyses in this tutorial are reproducible. "
   ]
  },
  {
   "cell_type": "code",
   "execution_count": 27,
   "metadata": {},
   "outputs": [],
   "source": [
    "# Making sure our results are reproducible\n",
    "from numpy.random import seed\n",
    "seed(1234)\n",
    "from tensorflow import set_random_seed\n",
    "set_random_seed(1234)"
   ]
  },
  {
   "cell_type": "markdown",
   "metadata": {},
   "source": [
    "## Getting simulation data <a name='3'>\n",
    "<a href=#outline>Home</a>\n",
    "\n",
    "\n",
    "DragoNN provides a set of simulation functions. Let's use the **print_available_simulations** function to examine the list of simulations supported by DragoNN:"
   ]
  },
  {
   "cell_type": "code",
   "execution_count": 28,
   "metadata": {},
   "outputs": [
    {
     "name": "stdout",
     "output_type": "stream",
     "text": [
      "simulate_differential_accessibility\n",
      "simulate_heterodimer_grammar\n",
      "simulate_motif_counting\n",
      "simulate_motif_density_localization\n",
      "simulate_multi_motif_embedding\n",
      "simulate_single_motif_detection\n"
     ]
    }
   ],
   "source": [
    "print_available_simulations()"
   ]
  },
  {
   "cell_type": "markdown",
   "metadata": {},
   "source": [
    "## Single Motif <a name='4'>\n",
    "<a href=#outline>Home</a>\n"
   ]
  },
  {
   "cell_type": "markdown",
   "metadata": {},
   "source": [
    "We begin with single motif detection of the TAL1_known4 motif: \n",
    "\n",
    "![play button](./primer_tutorial_images/TAL1_known4.png)\n",
    "Let's find out what parameters are needed for the simulation: "
   ]
  },
  {
   "cell_type": "code",
   "execution_count": 29,
   "metadata": {},
   "outputs": [
    {
     "name": "stdout",
     "output_type": "stream",
     "text": [
      "\n",
      "    Simulates two classes of seqeuences:\n",
      "        - Positive class sequence with a motif\n",
      "          embedded anywhere in the sequence\n",
      "        - Negative class sequence without the motif\n",
      "\n",
      "    Parameters\n",
      "    ----------\n",
      "    motif_name : str\n",
      "        encode motif name\n",
      "    seq_length : int\n",
      "        length of sequence\n",
      "    num_pos : int\n",
      "        number of positive class sequences\n",
      "    num_neg : int\n",
      "        number of negative class sequences\n",
      "    GC_fraction : float\n",
      "        GC fraction in background sequence\n",
      "\n",
      "    Returns\n",
      "    -------\n",
      "    sequence_arr : 1darray\n",
      "        Array with sequence strings.\n",
      "    y : 1darray\n",
      "        Array with positive/negative class labels.\n",
      "    embedding_arr: 1darray\n",
      "        Array of embedding objects.\n",
      "    \n"
     ]
    }
   ],
   "source": [
    "print_simulation_info(\"simulate_single_motif_detection\")"
   ]
  },
  {
   "cell_type": "markdown",
   "metadata": {},
   "source": [
    "In this binary simulation task, we simulate a negative set of 10K 500 bp random sequences and a positive set of 10K 500 bp random sequences with one instance of the TAL1 motif randomly embedded at any position."
   ]
  },
  {
   "cell_type": "code",
   "execution_count": 30,
   "metadata": {},
   "outputs": [],
   "source": [
    "#Define simulation parameters \n",
    "tal1_parameters = {\n",
    "    \"motif_name\": \"TAL1_known4\",\n",
    "    \"seq_length\": 500, \n",
    "    \"num_pos\": 10000,\n",
    "    \"num_neg\": 10000,\n",
    "    \"GC_fraction\": 0.4}\n",
    "\n",
    "#Get simulation data \n",
    "tal1_data = get_simulation_data(\"simulate_single_motif_detection\",\n",
    "                                      tal1_parameters,\n",
    "                                      validation_set_size=3200, test_set_size=4000)\n"
   ]
  },
  {
   "cell_type": "markdown",
   "metadata": {},
   "source": [
    "We define the convolutional neural network model architecture: "
   ]
  },
  {
   "cell_type": "code",
   "execution_count": 31,
   "metadata": {},
   "outputs": [],
   "source": [
    "#Define the optimal model architecture in keras (Refer to Primer Tutorial 2)\n",
    "tal1_model=Sequential() \n",
    "tal1_model.add(Conv2D(filters=10,kernel_size=(1,15),input_shape=tal1_data.X_train.shape[1::]))\n",
    "tal1_model.add(Activation('relu'))\n",
    "tal1_model.add(MaxPooling2D(pool_size=(1,35)))\n",
    "tal1_model.add(Flatten())\n",
    "tal1_model.add(Dense(1))\n",
    "tal1_model.add(Activation(\"sigmoid\"))\n",
    "\n",
    "##compile the model, specifying the Adam optimizer, and binary cross-entropy loss. \n",
    "tal1_model.compile(optimizer='adam',\n",
    "                               loss='binary_crossentropy')"
   ]
  },
  {
   "cell_type": "code",
   "execution_count": 32,
   "metadata": {},
   "outputs": [
    {
     "name": "stdout",
     "output_type": "stream",
     "text": [
      "Training Data:\n",
      "Loss: 0.6931\tBalanced Accuracy: 51.65%\t auROC: 0.527\t auPRC: 0.524\n",
      "\tRecall at 5%|10%|20% FDR: 0.1%|0.1%|0.1%\t Num Positives: 6401\t Num Negatives: 6399\n",
      "Validation Data:\n",
      "Loss: 0.6948\tBalanced Accuracy: 51.10%\t auROC: 0.517\t auPRC: 0.520\n",
      "\tRecall at 5%|10%|20% FDR: 0.0%|0.0%|0.0%\t Num Positives: 1617\t Num Negatives: 1583\n",
      "Training Data:\n",
      "Loss: 0.6902\tBalanced Accuracy: 53.38%\t auROC: 0.549\t auPRC: 0.543\n",
      "\tRecall at 5%|10%|20% FDR: 0.0%|0.0%|0.0%\t Num Positives: 6401\t Num Negatives: 6399\n",
      "Validation Data:\n",
      "Loss: 0.6951\tBalanced Accuracy: 51.33%\t auROC: 0.524\t auPRC: 0.526\n",
      "\tRecall at 5%|10%|20% FDR: 0.0%|0.0%|0.0%\t Num Positives: 1617\t Num Negatives: 1583\n",
      "Training Data:\n",
      "Loss: 0.6864\tBalanced Accuracy: 55.03%\t auROC: 0.571\t auPRC: 0.562\n",
      "\tRecall at 5%|10%|20% FDR: 0.0%|0.0%|0.0%\t Num Positives: 6401\t Num Negatives: 6399\n",
      "Validation Data:\n",
      "Loss: 0.6931\tBalanced Accuracy: 51.86%\t auROC: 0.533\t auPRC: 0.537\n",
      "\tRecall at 5%|10%|20% FDR: 0.0%|0.0%|0.0%\t Num Positives: 1617\t Num Negatives: 1583\n",
      "Training Data:\n",
      "Loss: 0.6834\tBalanced Accuracy: 56.13%\t auROC: 0.593\t auPRC: 0.583\n",
      "\tRecall at 5%|10%|20% FDR: 0.0%|0.0%|0.0%\t Num Positives: 6401\t Num Negatives: 6399\n",
      "Validation Data:\n",
      "Loss: 0.6920\tBalanced Accuracy: 53.30%\t auROC: 0.547\t auPRC: 0.551\n",
      "\tRecall at 5%|10%|20% FDR: 0.0%|0.0%|0.0%\t Num Positives: 1617\t Num Negatives: 1583\n",
      "Training Data:\n",
      "Loss: 0.6773\tBalanced Accuracy: 58.26%\t auROC: 0.618\t auPRC: 0.609\n",
      "\tRecall at 5%|10%|20% FDR: 0.0%|0.0%|0.1%\t Num Positives: 6401\t Num Negatives: 6399\n",
      "Validation Data:\n",
      "Loss: 0.6872\tBalanced Accuracy: 54.59%\t auROC: 0.563\t auPRC: 0.569\n",
      "\tRecall at 5%|10%|20% FDR: 0.0%|0.0%|0.0%\t Num Positives: 1617\t Num Negatives: 1583\n",
      "Training Data:\n",
      "Loss: 0.6713\tBalanced Accuracy: 60.16%\t auROC: 0.643\t auPRC: 0.636\n",
      "\tRecall at 5%|10%|20% FDR: 0.0%|0.0%|0.2%\t Num Positives: 6401\t Num Negatives: 6399\n",
      "Validation Data:\n",
      "Loss: 0.6837\tBalanced Accuracy: 56.17%\t auROC: 0.581\t auPRC: 0.587\n",
      "\tRecall at 5%|10%|20% FDR: 0.0%|0.0%|0.0%\t Num Positives: 1617\t Num Negatives: 1583\n",
      "Training Data:\n",
      "Loss: 0.6648\tBalanced Accuracy: 61.82%\t auROC: 0.667\t auPRC: 0.662\n",
      "\tRecall at 5%|10%|20% FDR: 0.1%|0.1%|10.3%\t Num Positives: 6401\t Num Negatives: 6399\n",
      "Validation Data:\n",
      "Loss: 0.6797\tBalanced Accuracy: 57.15%\t auROC: 0.603\t auPRC: 0.610\n",
      "\tRecall at 5%|10%|20% FDR: 0.1%|0.1%|0.6%\t Num Positives: 1617\t Num Negatives: 1583\n",
      "Training Data:\n",
      "Loss: 0.6565\tBalanced Accuracy: 62.04%\t auROC: 0.693\t auPRC: 0.688\n",
      "\tRecall at 5%|10%|20% FDR: 0.1%|0.4%|17.8%\t Num Positives: 6401\t Num Negatives: 6399\n",
      "Validation Data:\n",
      "Loss: 0.6723\tBalanced Accuracy: 57.68%\t auROC: 0.630\t auPRC: 0.636\n",
      "\tRecall at 5%|10%|20% FDR: 0.2%|0.2%|7.2%\t Num Positives: 1617\t Num Negatives: 1583\n",
      "Training Data:\n",
      "Loss: 0.6444\tBalanced Accuracy: 65.34%\t auROC: 0.712\t auPRC: 0.707\n",
      "\tRecall at 5%|10%|20% FDR: 0.0%|0.0%|24.4%\t Num Positives: 6401\t Num Negatives: 6399\n",
      "Validation Data:\n",
      "Loss: 0.6625\tBalanced Accuracy: 60.43%\t auROC: 0.655\t auPRC: 0.659\n",
      "\tRecall at 5%|10%|20% FDR: 0.2%|0.2%|13.0%\t Num Positives: 1617\t Num Negatives: 1583\n",
      "Training Data:\n",
      "Loss: 0.6313\tBalanced Accuracy: 66.86%\t auROC: 0.730\t auPRC: 0.724\n",
      "\tRecall at 5%|10%|20% FDR: 0.4%|5.8%|28.7%\t Num Positives: 6401\t Num Negatives: 6399\n",
      "Validation Data:\n",
      "Loss: 0.6500\tBalanced Accuracy: 63.54%\t auROC: 0.679\t auPRC: 0.681\n",
      "\tRecall at 5%|10%|20% FDR: 0.2%|0.2%|15.8%\t Num Positives: 1617\t Num Negatives: 1583\n",
      "Training Data:\n",
      "Loss: 0.6191\tBalanced Accuracy: 68.11%\t auROC: 0.744\t auPRC: 0.736\n",
      "\tRecall at 5%|10%|20% FDR: 0.4%|6.0%|33.3%\t Num Positives: 6401\t Num Negatives: 6399\n",
      "Validation Data:\n",
      "Loss: 0.6388\tBalanced Accuracy: 64.64%\t auROC: 0.699\t auPRC: 0.697\n",
      "\tRecall at 5%|10%|20% FDR: 0.2%|0.2%|17.7%\t Num Positives: 1617\t Num Negatives: 1583\n",
      "Training Data:\n",
      "Loss: 0.6071\tBalanced Accuracy: 69.37%\t auROC: 0.756\t auPRC: 0.747\n",
      "\tRecall at 5%|10%|20% FDR: 0.5%|6.4%|35.6%\t Num Positives: 6401\t Num Negatives: 6399\n",
      "Validation Data:\n",
      "Loss: 0.6277\tBalanced Accuracy: 65.40%\t auROC: 0.715\t auPRC: 0.711\n",
      "\tRecall at 5%|10%|20% FDR: 0.2%|1.9%|25.5%\t Num Positives: 1617\t Num Negatives: 1583\n",
      "Training Data:\n",
      "Loss: 0.6035\tBalanced Accuracy: 68.22%\t auROC: 0.770\t auPRC: 0.759\n",
      "\tRecall at 5%|10%|20% FDR: 1.3%|9.2%|40.5%\t Num Positives: 6401\t Num Negatives: 6399\n",
      "Validation Data:\n",
      "Loss: 0.6231\tBalanced Accuracy: 66.33%\t auROC: 0.732\t auPRC: 0.725\n",
      "\tRecall at 5%|10%|20% FDR: 0.3%|3.9%|28.7%\t Num Positives: 1617\t Num Negatives: 1583\n",
      "Training Data:\n",
      "Loss: 0.5881\tBalanced Accuracy: 69.88%\t auROC: 0.786\t auPRC: 0.774\n",
      "\tRecall at 5%|10%|20% FDR: 2.0%|10.7%|45.2%\t Num Positives: 6401\t Num Negatives: 6399\n",
      "Validation Data:\n",
      "Loss: 0.6095\tBalanced Accuracy: 66.70%\t auROC: 0.751\t auPRC: 0.743\n",
      "\tRecall at 5%|10%|20% FDR: 0.4%|4.1%|35.7%\t Num Positives: 1617\t Num Negatives: 1583\n",
      "Training Data:\n",
      "Loss: 0.5710\tBalanced Accuracy: 72.74%\t auROC: 0.799\t auPRC: 0.786\n",
      "\tRecall at 5%|10%|20% FDR: 2.3%|11.6%|50.6%\t Num Positives: 6401\t Num Negatives: 6399\n",
      "Validation Data:\n",
      "Loss: 0.5913\tBalanced Accuracy: 69.22%\t auROC: 0.767\t auPRC: 0.757\n",
      "\tRecall at 5%|10%|20% FDR: 0.4%|3.6%|40.7%\t Num Positives: 1617\t Num Negatives: 1583\n",
      "Training Data:\n",
      "Loss: 0.5584\tBalanced Accuracy: 73.90%\t auROC: 0.813\t auPRC: 0.800\n",
      "\tRecall at 5%|10%|20% FDR: 2.0%|14.0%|56.6%\t Num Positives: 6401\t Num Negatives: 6399\n",
      "Validation Data:\n",
      "Loss: 0.5784\tBalanced Accuracy: 70.83%\t auROC: 0.783\t auPRC: 0.773\n",
      "\tRecall at 5%|10%|20% FDR: 0.4%|4.0%|43.5%\t Num Positives: 1617\t Num Negatives: 1583\n",
      "Training Data:\n",
      "Loss: 0.5461\tBalanced Accuracy: 75.11%\t auROC: 0.825\t auPRC: 0.812\n",
      "\tRecall at 5%|10%|20% FDR: 2.4%|19.6%|61.0%\t Num Positives: 6401\t Num Negatives: 6399\n",
      "Validation Data:\n",
      "Loss: 0.5645\tBalanced Accuracy: 72.79%\t auROC: 0.799\t auPRC: 0.788\n",
      "\tRecall at 5%|10%|20% FDR: 3.6%|15.3%|49.5%\t Num Positives: 1617\t Num Negatives: 1583\n",
      "Training Data:\n",
      "Loss: 0.5349\tBalanced Accuracy: 75.99%\t auROC: 0.835\t auPRC: 0.823\n",
      "\tRecall at 5%|10%|20% FDR: 3.9%|24.4%|65.6%\t Num Positives: 6401\t Num Negatives: 6399\n",
      "Validation Data:\n",
      "Loss: 0.5524\tBalanced Accuracy: 73.95%\t auROC: 0.812\t auPRC: 0.801\n",
      "\tRecall at 5%|10%|20% FDR: 4.1%|16.9%|55.5%\t Num Positives: 1617\t Num Negatives: 1583\n",
      "Training Data:\n",
      "Loss: 0.5221\tBalanced Accuracy: 77.26%\t auROC: 0.847\t auPRC: 0.835\n",
      "\tRecall at 5%|10%|20% FDR: 4.9%|34.7%|70.4%\t Num Positives: 6401\t Num Negatives: 6399\n",
      "Validation Data:\n",
      "Loss: 0.5385\tBalanced Accuracy: 75.35%\t auROC: 0.827\t auPRC: 0.815\n",
      "\tRecall at 5%|10%|20% FDR: 5.3%|21.2%|63.5%\t Num Positives: 1617\t Num Negatives: 1583\n",
      "Training Data:\n",
      "Loss: 0.5089\tBalanced Accuracy: 77.27%\t auROC: 0.858\t auPRC: 0.846\n",
      "\tRecall at 5%|10%|20% FDR: 5.8%|41.2%|75.3%\t Num Positives: 6401\t Num Negatives: 6399\n",
      "Validation Data:\n",
      "Loss: 0.5259\tBalanced Accuracy: 75.24%\t auROC: 0.840\t auPRC: 0.829\n",
      "\tRecall at 5%|10%|20% FDR: 6.7%|30.4%|68.0%\t Num Positives: 1617\t Num Negatives: 1583\n",
      "Training Data:\n",
      "Loss: 0.4935\tBalanced Accuracy: 79.53%\t auROC: 0.864\t auPRC: 0.853\n",
      "\tRecall at 5%|10%|20% FDR: 5.7%|42.7%|78.7%\t Num Positives: 6401\t Num Negatives: 6399\n",
      "Validation Data:\n",
      "Loss: 0.5091\tBalanced Accuracy: 76.95%\t auROC: 0.848\t auPRC: 0.837\n",
      "\tRecall at 5%|10%|20% FDR: 7.9%|32.6%|72.0%\t Num Positives: 1617\t Num Negatives: 1583\n",
      "Training Data:\n",
      "Loss: 0.4811\tBalanced Accuracy: 80.43%\t auROC: 0.873\t auPRC: 0.862\n",
      "\tRecall at 5%|10%|20% FDR: 12.6%|45.2%|81.2%\t Num Positives: 6401\t Num Negatives: 6399\n",
      "Validation Data:\n",
      "Loss: 0.4957\tBalanced Accuracy: 78.55%\t auROC: 0.858\t auPRC: 0.848\n",
      "\tRecall at 5%|10%|20% FDR: 9.6%|37.4%|75.4%\t Num Positives: 1617\t Num Negatives: 1583\n",
      "Training Data:\n",
      "Loss: 0.4674\tBalanced Accuracy: 81.36%\t auROC: 0.883\t auPRC: 0.873\n",
      "\tRecall at 5%|10%|20% FDR: 15.7%|49.7%|84.5%\t Num Positives: 6401\t Num Negatives: 6399\n",
      "Validation Data:\n",
      "Loss: 0.4809\tBalanced Accuracy: 80.02%\t auROC: 0.871\t auPRC: 0.862\n",
      "\tRecall at 5%|10%|20% FDR: 12.4%|39.9%|80.3%\t Num Positives: 1617\t Num Negatives: 1583\n",
      "Training Data:\n",
      "Loss: 0.4553\tBalanced Accuracy: 82.50%\t auROC: 0.890\t auPRC: 0.879\n",
      "\tRecall at 5%|10%|20% FDR: 16.8%|55.2%|86.5%\t Num Positives: 6401\t Num Negatives: 6399\n",
      "Validation Data:\n",
      "Loss: 0.4673\tBalanced Accuracy: 80.99%\t auROC: 0.879\t auPRC: 0.870\n",
      "\tRecall at 5%|10%|20% FDR: 14.2%|40.6%|82.8%\t Num Positives: 1617\t Num Negatives: 1583\n",
      "Training Data:\n",
      "Loss: 0.4435\tBalanced Accuracy: 83.06%\t auROC: 0.894\t auPRC: 0.884\n",
      "\tRecall at 5%|10%|20% FDR: 18.0%|58.4%|87.5%\t Num Positives: 6401\t Num Negatives: 6399\n",
      "Validation Data:\n",
      "Loss: 0.4542\tBalanced Accuracy: 81.65%\t auROC: 0.885\t auPRC: 0.876\n",
      "\tRecall at 5%|10%|20% FDR: 15.5%|45.1%|85.3%\t Num Positives: 1617\t Num Negatives: 1583\n"
     ]
    },
    {
     "name": "stdout",
     "output_type": "stream",
     "text": [
      "Training Data:\n",
      "Loss: 0.4328\tBalanced Accuracy: 83.80%\t auROC: 0.900\t auPRC: 0.890\n",
      "\tRecall at 5%|10%|20% FDR: 19.7%|62.1%|88.7%\t Num Positives: 6401\t Num Negatives: 6399\n",
      "Validation Data:\n",
      "Loss: 0.4426\tBalanced Accuracy: 82.58%\t auROC: 0.892\t auPRC: 0.884\n",
      "\tRecall at 5%|10%|20% FDR: 19.7%|50.7%|88.4%\t Num Positives: 1617\t Num Negatives: 1583\n",
      "Training Data:\n",
      "Loss: 0.4217\tBalanced Accuracy: 84.12%\t auROC: 0.905\t auPRC: 0.895\n",
      "\tRecall at 5%|10%|20% FDR: 21.2%|64.5%|90.1%\t Num Positives: 6401\t Num Negatives: 6399\n",
      "Validation Data:\n",
      "Loss: 0.4314\tBalanced Accuracy: 82.71%\t auROC: 0.898\t auPRC: 0.891\n",
      "\tRecall at 5%|10%|20% FDR: 27.0%|53.6%|89.7%\t Num Positives: 1617\t Num Negatives: 1583\n",
      "Training Data:\n",
      "Loss: 0.4131\tBalanced Accuracy: 84.84%\t auROC: 0.908\t auPRC: 0.898\n",
      "\tRecall at 5%|10%|20% FDR: 21.5%|66.3%|91.0%\t Num Positives: 6401\t Num Negatives: 6399\n",
      "Validation Data:\n",
      "Loss: 0.4209\tBalanced Accuracy: 84.39%\t auROC: 0.901\t auPRC: 0.895\n",
      "\tRecall at 5%|10%|20% FDR: 27.5%|57.1%|90.8%\t Num Positives: 1617\t Num Negatives: 1583\n",
      "Training Data:\n",
      "Loss: 0.4028\tBalanced Accuracy: 85.30%\t auROC: 0.911\t auPRC: 0.902\n",
      "\tRecall at 5%|10%|20% FDR: 23.3%|70.3%|91.6%\t Num Positives: 6401\t Num Negatives: 6399\n",
      "Validation Data:\n",
      "Loss: 0.4102\tBalanced Accuracy: 84.20%\t auROC: 0.906\t auPRC: 0.900\n",
      "\tRecall at 5%|10%|20% FDR: 30.9%|61.3%|91.7%\t Num Positives: 1617\t Num Negatives: 1583\n",
      "Training Data:\n",
      "Loss: 0.3958\tBalanced Accuracy: 86.22%\t auROC: 0.916\t auPRC: 0.908\n",
      "\tRecall at 5%|10%|20% FDR: 26.9%|73.6%|92.2%\t Num Positives: 6401\t Num Negatives: 6399\n",
      "Validation Data:\n",
      "Loss: 0.4028\tBalanced Accuracy: 85.67%\t auROC: 0.911\t auPRC: 0.906\n",
      "\tRecall at 5%|10%|20% FDR: 32.6%|66.4%|92.1%\t Num Positives: 1617\t Num Negatives: 1583\n",
      "Training Data:\n",
      "Loss: 0.3883\tBalanced Accuracy: 86.64%\t auROC: 0.919\t auPRC: 0.911\n",
      "\tRecall at 5%|10%|20% FDR: 28.9%|75.1%|92.7%\t Num Positives: 6401\t Num Negatives: 6399\n",
      "Validation Data:\n",
      "Loss: 0.3946\tBalanced Accuracy: 86.13%\t auROC: 0.914\t auPRC: 0.909\n",
      "\tRecall at 5%|10%|20% FDR: 33.9%|68.9%|92.6%\t Num Positives: 1617\t Num Negatives: 1583\n",
      "Training Data:\n",
      "Loss: 0.3788\tBalanced Accuracy: 87.05%\t auROC: 0.921\t auPRC: 0.914\n",
      "\tRecall at 5%|10%|20% FDR: 31.4%|77.1%|93.0%\t Num Positives: 6401\t Num Negatives: 6399\n",
      "Validation Data:\n",
      "Loss: 0.3853\tBalanced Accuracy: 86.42%\t auROC: 0.916\t auPRC: 0.912\n",
      "\tRecall at 5%|10%|20% FDR: 34.9%|69.9%|93.3%\t Num Positives: 1617\t Num Negatives: 1583\n",
      "Training Data:\n",
      "Loss: 0.3711\tBalanced Accuracy: 87.02%\t auROC: 0.923\t auPRC: 0.916\n",
      "\tRecall at 5%|10%|20% FDR: 44.0%|78.9%|93.3%\t Num Positives: 6401\t Num Negatives: 6399\n",
      "Validation Data:\n",
      "Loss: 0.3782\tBalanced Accuracy: 86.07%\t auROC: 0.919\t auPRC: 0.914\n",
      "\tRecall at 5%|10%|20% FDR: 37.2%|70.9%|93.4%\t Num Positives: 1617\t Num Negatives: 1583\n",
      "Training Data:\n",
      "Loss: 0.3689\tBalanced Accuracy: 87.42%\t auROC: 0.924\t auPRC: 0.917\n",
      "\tRecall at 5%|10%|20% FDR: 44.6%|79.9%|93.4%\t Num Positives: 6401\t Num Negatives: 6399\n",
      "Validation Data:\n",
      "Loss: 0.3744\tBalanced Accuracy: 87.28%\t auROC: 0.920\t auPRC: 0.916\n",
      "\tRecall at 5%|10%|20% FDR: 38.1%|78.1%|93.5%\t Num Positives: 1617\t Num Negatives: 1583\n",
      "Training Data:\n",
      "Loss: 0.3591\tBalanced Accuracy: 87.49%\t auROC: 0.927\t auPRC: 0.920\n",
      "\tRecall at 5%|10%|20% FDR: 46.7%|81.7%|93.6%\t Num Positives: 6401\t Num Negatives: 6399\n",
      "Validation Data:\n",
      "Loss: 0.3663\tBalanced Accuracy: 86.83%\t auROC: 0.922\t auPRC: 0.919\n",
      "\tRecall at 5%|10%|20% FDR: 41.2%|80.0%|93.8%\t Num Positives: 1617\t Num Negatives: 1583\n",
      "Training Data:\n",
      "Loss: 0.3540\tBalanced Accuracy: 87.67%\t auROC: 0.928\t auPRC: 0.921\n",
      "\tRecall at 5%|10%|20% FDR: 47.0%|82.4%|93.8%\t Num Positives: 6401\t Num Negatives: 6399\n",
      "Validation Data:\n",
      "Loss: 0.3612\tBalanced Accuracy: 86.86%\t auROC: 0.923\t auPRC: 0.920\n",
      "\tRecall at 5%|10%|20% FDR: 41.1%|80.1%|93.8%\t Num Positives: 1617\t Num Negatives: 1583\n",
      "Training Data:\n",
      "Loss: 0.3479\tBalanced Accuracy: 88.21%\t auROC: 0.929\t auPRC: 0.923\n",
      "\tRecall at 5%|10%|20% FDR: 48.5%|83.0%|93.9%\t Num Positives: 6401\t Num Negatives: 6399\n",
      "Validation Data:\n",
      "Loss: 0.3548\tBalanced Accuracy: 87.84%\t auROC: 0.925\t auPRC: 0.922\n",
      "\tRecall at 5%|10%|20% FDR: 42.0%|81.0%|93.9%\t Num Positives: 1617\t Num Negatives: 1583\n",
      "Training Data:\n",
      "Loss: 0.3435\tBalanced Accuracy: 88.42%\t auROC: 0.931\t auPRC: 0.924\n",
      "\tRecall at 5%|10%|20% FDR: 50.8%|84.5%|93.9%\t Num Positives: 6401\t Num Negatives: 6399\n",
      "Validation Data:\n",
      "Loss: 0.3508\tBalanced Accuracy: 87.45%\t auROC: 0.926\t auPRC: 0.923\n",
      "\tRecall at 5%|10%|20% FDR: 43.7%|81.0%|94.0%\t Num Positives: 1617\t Num Negatives: 1583\n",
      "Training Data:\n",
      "Loss: 0.3392\tBalanced Accuracy: 88.54%\t auROC: 0.931\t auPRC: 0.925\n",
      "\tRecall at 5%|10%|20% FDR: 51.5%|84.8%|93.9%\t Num Positives: 6401\t Num Negatives: 6399\n",
      "Validation Data:\n",
      "Loss: 0.3460\tBalanced Accuracy: 87.96%\t auROC: 0.926\t auPRC: 0.923\n",
      "\tRecall at 5%|10%|20% FDR: 43.7%|81.3%|94.1%\t Num Positives: 1617\t Num Negatives: 1583\n",
      "Training Data:\n",
      "Loss: 0.3351\tBalanced Accuracy: 88.73%\t auROC: 0.933\t auPRC: 0.927\n",
      "\tRecall at 5%|10%|20% FDR: 54.2%|86.3%|94.0%\t Num Positives: 6401\t Num Negatives: 6399\n",
      "Validation Data:\n",
      "Loss: 0.3427\tBalanced Accuracy: 88.22%\t auROC: 0.928\t auPRC: 0.925\n",
      "\tRecall at 5%|10%|20% FDR: 47.4%|82.7%|94.2%\t Num Positives: 1617\t Num Negatives: 1583\n",
      "Training Data:\n",
      "Loss: 0.3317\tBalanced Accuracy: 88.89%\t auROC: 0.934\t auPRC: 0.928\n",
      "\tRecall at 5%|10%|20% FDR: 55.0%|86.9%|94.1%\t Num Positives: 6401\t Num Negatives: 6399\n",
      "Validation Data:\n",
      "Loss: 0.3399\tBalanced Accuracy: 88.16%\t auROC: 0.928\t auPRC: 0.926\n",
      "\tRecall at 5%|10%|20% FDR: 46.6%|83.6%|94.2%\t Num Positives: 1617\t Num Negatives: 1583\n",
      "Training Data:\n",
      "Loss: 0.3285\tBalanced Accuracy: 89.04%\t auROC: 0.935\t auPRC: 0.929\n",
      "\tRecall at 5%|10%|20% FDR: 55.8%|87.4%|94.1%\t Num Positives: 6401\t Num Negatives: 6399\n",
      "Validation Data:\n",
      "Loss: 0.3370\tBalanced Accuracy: 88.46%\t auROC: 0.929\t auPRC: 0.927\n",
      "\tRecall at 5%|10%|20% FDR: 48.4%|84.2%|94.2%\t Num Positives: 1617\t Num Negatives: 1583\n",
      "Training Data:\n",
      "Loss: 0.3259\tBalanced Accuracy: 89.21%\t auROC: 0.936\t auPRC: 0.930\n",
      "\tRecall at 5%|10%|20% FDR: 56.9%|88.0%|94.2%\t Num Positives: 6401\t Num Negatives: 6399\n",
      "Validation Data:\n",
      "Loss: 0.3350\tBalanced Accuracy: 88.77%\t auROC: 0.930\t auPRC: 0.928\n",
      "\tRecall at 5%|10%|20% FDR: 50.3%|85.0%|94.2%\t Num Positives: 1617\t Num Negatives: 1583\n",
      "Training Data:\n",
      "Loss: 0.3227\tBalanced Accuracy: 89.16%\t auROC: 0.936\t auPRC: 0.930\n",
      "\tRecall at 5%|10%|20% FDR: 57.2%|87.8%|94.2%\t Num Positives: 6401\t Num Negatives: 6399\n",
      "Validation Data:\n",
      "Loss: 0.3315\tBalanced Accuracy: 88.84%\t auROC: 0.930\t auPRC: 0.927\n",
      "\tRecall at 5%|10%|20% FDR: 46.6%|84.8%|94.2%\t Num Positives: 1617\t Num Negatives: 1583\n",
      "Training Data:\n",
      "Loss: 0.3202\tBalanced Accuracy: 89.25%\t auROC: 0.936\t auPRC: 0.931\n",
      "\tRecall at 5%|10%|20% FDR: 57.7%|88.0%|94.1%\t Num Positives: 6401\t Num Negatives: 6399\n",
      "Validation Data:\n",
      "Loss: 0.3293\tBalanced Accuracy: 89.02%\t auROC: 0.930\t auPRC: 0.928\n",
      "\tRecall at 5%|10%|20% FDR: 49.5%|85.5%|94.4%\t Num Positives: 1617\t Num Negatives: 1583\n",
      "Training Data:\n",
      "Loss: 0.3180\tBalanced Accuracy: 89.47%\t auROC: 0.937\t auPRC: 0.932\n",
      "\tRecall at 5%|10%|20% FDR: 58.7%|88.2%|94.2%\t Num Positives: 6401\t Num Negatives: 6399\n",
      "Validation Data:\n",
      "Loss: 0.3274\tBalanced Accuracy: 89.18%\t auROC: 0.931\t auPRC: 0.929\n",
      "\tRecall at 5%|10%|20% FDR: 52.0%|86.5%|94.4%\t Num Positives: 1617\t Num Negatives: 1583\n",
      "Training Data:\n",
      "Loss: 0.3170\tBalanced Accuracy: 89.56%\t auROC: 0.938\t auPRC: 0.932\n",
      "\tRecall at 5%|10%|20% FDR: 60.1%|88.4%|94.1%\t Num Positives: 6401\t Num Negatives: 6399\n",
      "Validation Data:\n",
      "Loss: 0.3265\tBalanced Accuracy: 89.20%\t auROC: 0.931\t auPRC: 0.929\n",
      "\tRecall at 5%|10%|20% FDR: 50.2%|86.6%|94.3%\t Num Positives: 1617\t Num Negatives: 1583\n",
      "Training Data:\n",
      "Loss: 0.3139\tBalanced Accuracy: 89.61%\t auROC: 0.938\t auPRC: 0.933\n",
      "\tRecall at 5%|10%|20% FDR: 60.4%|88.7%|94.2%\t Num Positives: 6401\t Num Negatives: 6399\n",
      "Validation Data:\n",
      "Loss: 0.3241\tBalanced Accuracy: 89.24%\t auROC: 0.931\t auPRC: 0.930\n",
      "\tRecall at 5%|10%|20% FDR: 51.8%|87.7%|94.3%\t Num Positives: 1617\t Num Negatives: 1583\n",
      "Training Data:\n",
      "Loss: 0.3120\tBalanced Accuracy: 89.60%\t auROC: 0.939\t auPRC: 0.933\n",
      "\tRecall at 5%|10%|20% FDR: 60.7%|88.9%|94.3%\t Num Positives: 6401\t Num Negatives: 6399\n",
      "Validation Data:\n",
      "Loss: 0.3224\tBalanced Accuracy: 89.22%\t auROC: 0.932\t auPRC: 0.930\n",
      "\tRecall at 5%|10%|20% FDR: 51.9%|87.9%|94.3%\t Num Positives: 1617\t Num Negatives: 1583\n",
      "Training Data:\n",
      "Loss: 0.3109\tBalanced Accuracy: 89.66%\t auROC: 0.940\t auPRC: 0.934\n",
      "\tRecall at 5%|10%|20% FDR: 60.9%|89.3%|94.4%\t Num Positives: 6401\t Num Negatives: 6399\n",
      "Validation Data:\n",
      "Loss: 0.3225\tBalanced Accuracy: 89.19%\t auROC: 0.932\t auPRC: 0.931\n",
      "\tRecall at 5%|10%|20% FDR: 54.4%|88.3%|94.3%\t Num Positives: 1617\t Num Negatives: 1583\n"
     ]
    },
    {
     "name": "stdout",
     "output_type": "stream",
     "text": [
      "Training Data:\n",
      "Loss: 0.3088\tBalanced Accuracy: 89.84%\t auROC: 0.941\t auPRC: 0.935\n",
      "\tRecall at 5%|10%|20% FDR: 60.9%|89.7%|94.5%\t Num Positives: 6401\t Num Negatives: 6399\n",
      "Validation Data:\n",
      "Loss: 0.3209\tBalanced Accuracy: 89.53%\t auROC: 0.933\t auPRC: 0.931\n",
      "\tRecall at 5%|10%|20% FDR: 55.9%|88.2%|94.3%\t Num Positives: 1617\t Num Negatives: 1583\n",
      "Training Data:\n",
      "Loss: 0.3073\tBalanced Accuracy: 89.88%\t auROC: 0.941\t auPRC: 0.935\n",
      "\tRecall at 5%|10%|20% FDR: 60.8%|89.9%|94.5%\t Num Positives: 6401\t Num Negatives: 6399\n",
      "Validation Data:\n",
      "Loss: 0.3197\tBalanced Accuracy: 89.41%\t auROC: 0.932\t auPRC: 0.931\n",
      "\tRecall at 5%|10%|20% FDR: 54.7%|88.2%|94.2%\t Num Positives: 1617\t Num Negatives: 1583\n",
      "Training Data:\n",
      "Loss: 0.3059\tBalanced Accuracy: 89.97%\t auROC: 0.941\t auPRC: 0.935\n",
      "\tRecall at 5%|10%|20% FDR: 60.9%|90.1%|94.5%\t Num Positives: 6401\t Num Negatives: 6399\n",
      "Validation Data:\n",
      "Loss: 0.3186\tBalanced Accuracy: 89.62%\t auROC: 0.933\t auPRC: 0.931\n",
      "\tRecall at 5%|10%|20% FDR: 55.0%|88.8%|94.2%\t Num Positives: 1617\t Num Negatives: 1583\n",
      "Training Data:\n",
      "Loss: 0.3086\tBalanced Accuracy: 89.41%\t auROC: 0.942\t auPRC: 0.936\n",
      "\tRecall at 5%|10%|20% FDR: 61.3%|90.3%|94.6%\t Num Positives: 6401\t Num Negatives: 6399\n",
      "Validation Data:\n",
      "Loss: 0.3223\tBalanced Accuracy: 88.99%\t auROC: 0.933\t auPRC: 0.931\n",
      "\tRecall at 5%|10%|20% FDR: 57.5%|88.6%|94.2%\t Num Positives: 1617\t Num Negatives: 1583\n",
      "Training Data:\n",
      "Loss: 0.3087\tBalanced Accuracy: 89.80%\t auROC: 0.942\t auPRC: 0.936\n",
      "\tRecall at 5%|10%|20% FDR: 61.6%|90.2%|94.5%\t Num Positives: 6401\t Num Negatives: 6399\n",
      "Validation Data:\n",
      "Loss: 0.3219\tBalanced Accuracy: 89.73%\t auROC: 0.933\t auPRC: 0.931\n",
      "\tRecall at 5%|10%|20% FDR: 56.0%|88.6%|94.2%\t Num Positives: 1617\t Num Negatives: 1583\n",
      "Training Data:\n",
      "Loss: 0.3023\tBalanced Accuracy: 90.11%\t auROC: 0.942\t auPRC: 0.937\n",
      "\tRecall at 5%|10%|20% FDR: 61.3%|90.5%|94.6%\t Num Positives: 6401\t Num Negatives: 6399\n",
      "Validation Data:\n",
      "Loss: 0.3164\tBalanced Accuracy: 89.65%\t auROC: 0.933\t auPRC: 0.931\n",
      "\tRecall at 5%|10%|20% FDR: 56.8%|89.0%|94.2%\t Num Positives: 1617\t Num Negatives: 1583\n",
      "Training Data:\n",
      "Loss: 0.3040\tBalanced Accuracy: 89.66%\t auROC: 0.943\t auPRC: 0.937\n",
      "\tRecall at 5%|10%|20% FDR: 61.6%|90.6%|94.7%\t Num Positives: 6401\t Num Negatives: 6399\n",
      "Validation Data:\n",
      "Loss: 0.3186\tBalanced Accuracy: 89.08%\t auROC: 0.933\t auPRC: 0.931\n",
      "\tRecall at 5%|10%|20% FDR: 57.8%|89.8%|94.2%\t Num Positives: 1617\t Num Negatives: 1583\n",
      "Training Data:\n",
      "Loss: 0.3014\tBalanced Accuracy: 90.21%\t auROC: 0.943\t auPRC: 0.937\n",
      "\tRecall at 5%|10%|20% FDR: 61.2%|90.5%|94.7%\t Num Positives: 6401\t Num Negatives: 6399\n",
      "Validation Data:\n",
      "Loss: 0.3161\tBalanced Accuracy: 89.96%\t auROC: 0.933\t auPRC: 0.931\n",
      "\tRecall at 5%|10%|20% FDR: 57.0%|89.9%|94.2%\t Num Positives: 1617\t Num Negatives: 1583\n",
      "Training Data:\n",
      "Loss: 0.2997\tBalanced Accuracy: 90.34%\t auROC: 0.943\t auPRC: 0.938\n",
      "\tRecall at 5%|10%|20% FDR: 62.3%|90.6%|94.7%\t Num Positives: 6401\t Num Negatives: 6399\n",
      "Validation Data:\n",
      "Loss: 0.3150\tBalanced Accuracy: 90.02%\t auROC: 0.934\t auPRC: 0.932\n",
      "\tRecall at 5%|10%|20% FDR: 57.1%|89.8%|94.3%\t Num Positives: 1617\t Num Negatives: 1583\n",
      "Training Data:\n",
      "Loss: 0.2985\tBalanced Accuracy: 90.22%\t auROC: 0.944\t auPRC: 0.938\n",
      "\tRecall at 5%|10%|20% FDR: 62.9%|90.8%|94.8%\t Num Positives: 6401\t Num Negatives: 6399\n",
      "Validation Data:\n",
      "Loss: 0.3145\tBalanced Accuracy: 89.81%\t auROC: 0.934\t auPRC: 0.932\n",
      "\tRecall at 5%|10%|20% FDR: 57.9%|90.0%|94.2%\t Num Positives: 1617\t Num Negatives: 1583\n",
      "Training Data:\n",
      "Loss: 0.2974\tBalanced Accuracy: 90.30%\t auROC: 0.944\t auPRC: 0.938\n",
      "\tRecall at 5%|10%|20% FDR: 63.1%|90.9%|94.8%\t Num Positives: 6401\t Num Negatives: 6399\n",
      "Validation Data:\n",
      "Loss: 0.3137\tBalanced Accuracy: 90.00%\t auROC: 0.934\t auPRC: 0.932\n",
      "\tRecall at 5%|10%|20% FDR: 58.0%|90.0%|94.3%\t Num Positives: 1617\t Num Negatives: 1583\n",
      "Training Data:\n",
      "Loss: 0.3013\tBalanced Accuracy: 90.25%\t auROC: 0.944\t auPRC: 0.938\n",
      "\tRecall at 5%|10%|20% FDR: 62.2%|90.8%|94.8%\t Num Positives: 6401\t Num Negatives: 6399\n",
      "Validation Data:\n",
      "Loss: 0.3179\tBalanced Accuracy: 89.92%\t auROC: 0.934\t auPRC: 0.932\n",
      "\tRecall at 5%|10%|20% FDR: 57.7%|89.9%|94.4%\t Num Positives: 1617\t Num Negatives: 1583\n",
      "Training Data:\n",
      "Loss: 0.2964\tBalanced Accuracy: 90.36%\t auROC: 0.945\t auPRC: 0.939\n",
      "\tRecall at 5%|10%|20% FDR: 62.0%|90.9%|94.8%\t Num Positives: 6401\t Num Negatives: 6399\n",
      "Validation Data:\n",
      "Loss: 0.3134\tBalanced Accuracy: 90.11%\t auROC: 0.934\t auPRC: 0.932\n",
      "\tRecall at 5%|10%|20% FDR: 57.7%|90.2%|94.4%\t Num Positives: 1617\t Num Negatives: 1583\n",
      "Training Data:\n",
      "Loss: 0.3049\tBalanced Accuracy: 90.14%\t auROC: 0.944\t auPRC: 0.938\n",
      "\tRecall at 5%|10%|20% FDR: 62.2%|90.9%|94.8%\t Num Positives: 6401\t Num Negatives: 6399\n",
      "Validation Data:\n",
      "Loss: 0.3219\tBalanced Accuracy: 89.85%\t auROC: 0.934\t auPRC: 0.932\n",
      "\tRecall at 5%|10%|20% FDR: 57.5%|90.0%|94.4%\t Num Positives: 1617\t Num Negatives: 1583\n",
      "Training Data:\n",
      "Loss: 0.2974\tBalanced Accuracy: 90.37%\t auROC: 0.945\t auPRC: 0.939\n",
      "\tRecall at 5%|10%|20% FDR: 63.1%|90.9%|94.9%\t Num Positives: 6401\t Num Negatives: 6399\n",
      "Validation Data:\n",
      "Loss: 0.3150\tBalanced Accuracy: 90.27%\t auROC: 0.934\t auPRC: 0.932\n",
      "\tRecall at 5%|10%|20% FDR: 58.1%|90.5%|94.3%\t Num Positives: 1617\t Num Negatives: 1583\n",
      "Training Data:\n",
      "Loss: 0.2936\tBalanced Accuracy: 90.32%\t auROC: 0.945\t auPRC: 0.939\n",
      "\tRecall at 5%|10%|20% FDR: 64.3%|91.0%|94.9%\t Num Positives: 6401\t Num Negatives: 6399\n",
      "Validation Data:\n",
      "Loss: 0.3116\tBalanced Accuracy: 90.09%\t auROC: 0.935\t auPRC: 0.933\n",
      "\tRecall at 5%|10%|20% FDR: 58.7%|90.4%|94.4%\t Num Positives: 1617\t Num Negatives: 1583\n",
      "Training Data:\n",
      "Loss: 0.2958\tBalanced Accuracy: 90.47%\t auROC: 0.946\t auPRC: 0.940\n",
      "\tRecall at 5%|10%|20% FDR: 65.7%|91.1%|95.0%\t Num Positives: 6401\t Num Negatives: 6399\n",
      "Validation Data:\n",
      "Loss: 0.3141\tBalanced Accuracy: 90.33%\t auROC: 0.935\t auPRC: 0.933\n",
      "\tRecall at 5%|10%|20% FDR: 59.2%|90.4%|94.3%\t Num Positives: 1617\t Num Negatives: 1583\n",
      "Training Data:\n",
      "Loss: 0.2929\tBalanced Accuracy: 90.52%\t auROC: 0.946\t auPRC: 0.940\n",
      "\tRecall at 5%|10%|20% FDR: 65.8%|91.2%|95.0%\t Num Positives: 6401\t Num Negatives: 6399\n",
      "Validation Data:\n",
      "Loss: 0.3117\tBalanced Accuracy: 90.21%\t auROC: 0.935\t auPRC: 0.933\n",
      "\tRecall at 5%|10%|20% FDR: 59.4%|90.5%|94.2%\t Num Positives: 1617\t Num Negatives: 1583\n",
      "Training Data:\n",
      "Loss: 0.2933\tBalanced Accuracy: 90.11%\t auROC: 0.946\t auPRC: 0.941\n",
      "\tRecall at 5%|10%|20% FDR: 66.5%|91.3%|95.1%\t Num Positives: 6401\t Num Negatives: 6399\n",
      "Validation Data:\n",
      "Loss: 0.3128\tBalanced Accuracy: 89.70%\t auROC: 0.935\t auPRC: 0.933\n",
      "\tRecall at 5%|10%|20% FDR: 59.2%|90.6%|94.3%\t Num Positives: 1617\t Num Negatives: 1583\n",
      "Training Data:\n",
      "Loss: 0.2911\tBalanced Accuracy: 90.42%\t auROC: 0.946\t auPRC: 0.940\n",
      "\tRecall at 5%|10%|20% FDR: 66.0%|91.3%|95.2%\t Num Positives: 6401\t Num Negatives: 6399\n",
      "Validation Data:\n",
      "Loss: 0.3106\tBalanced Accuracy: 90.12%\t auROC: 0.935\t auPRC: 0.933\n",
      "\tRecall at 5%|10%|20% FDR: 59.7%|90.6%|94.2%\t Num Positives: 1617\t Num Negatives: 1583\n",
      "Training Data:\n",
      "Loss: 0.2906\tBalanced Accuracy: 90.41%\t auROC: 0.947\t auPRC: 0.941\n",
      "\tRecall at 5%|10%|20% FDR: 65.7%|91.3%|95.2%\t Num Positives: 6401\t Num Negatives: 6399\n",
      "Validation Data:\n",
      "Loss: 0.3106\tBalanced Accuracy: 90.19%\t auROC: 0.935\t auPRC: 0.933\n",
      "\tRecall at 5%|10%|20% FDR: 60.2%|90.8%|94.2%\t Num Positives: 1617\t Num Negatives: 1583\n",
      "Training Data:\n",
      "Loss: 0.2904\tBalanced Accuracy: 90.38%\t auROC: 0.947\t auPRC: 0.941\n",
      "\tRecall at 5%|10%|20% FDR: 66.1%|91.5%|95.3%\t Num Positives: 6401\t Num Negatives: 6399\n",
      "Validation Data:\n",
      "Loss: 0.3110\tBalanced Accuracy: 90.04%\t auROC: 0.935\t auPRC: 0.933\n",
      "\tRecall at 5%|10%|20% FDR: 59.7%|90.7%|94.2%\t Num Positives: 1617\t Num Negatives: 1583\n",
      "Training Data:\n",
      "Loss: 0.2915\tBalanced Accuracy: 90.65%\t auROC: 0.947\t auPRC: 0.941\n",
      "\tRecall at 5%|10%|20% FDR: 65.8%|91.4%|95.2%\t Num Positives: 6401\t Num Negatives: 6399\n",
      "Validation Data:\n",
      "Loss: 0.3119\tBalanced Accuracy: 90.24%\t auROC: 0.935\t auPRC: 0.933\n",
      "\tRecall at 5%|10%|20% FDR: 59.1%|90.7%|94.2%\t Num Positives: 1617\t Num Negatives: 1583\n",
      "Training Data:\n",
      "Loss: 0.2895\tBalanced Accuracy: 90.42%\t auROC: 0.947\t auPRC: 0.941\n",
      "\tRecall at 5%|10%|20% FDR: 66.7%|91.5%|95.3%\t Num Positives: 6401\t Num Negatives: 6399\n",
      "Validation Data:\n",
      "Loss: 0.3108\tBalanced Accuracy: 89.97%\t auROC: 0.935\t auPRC: 0.933\n",
      "\tRecall at 5%|10%|20% FDR: 61.4%|90.8%|94.3%\t Num Positives: 1617\t Num Negatives: 1583\n",
      "Training Data:\n",
      "Loss: 0.2905\tBalanced Accuracy: 90.66%\t auROC: 0.947\t auPRC: 0.941\n",
      "\tRecall at 5%|10%|20% FDR: 64.0%|91.4%|95.2%\t Num Positives: 6401\t Num Negatives: 6399\n",
      "Validation Data:\n",
      "Loss: 0.3114\tBalanced Accuracy: 90.24%\t auROC: 0.935\t auPRC: 0.933\n",
      "\tRecall at 5%|10%|20% FDR: 59.4%|90.7%|94.2%\t Num Positives: 1617\t Num Negatives: 1583\n"
     ]
    },
    {
     "name": "stdout",
     "output_type": "stream",
     "text": [
      "Training Data:\n",
      "Loss: 0.2881\tBalanced Accuracy: 90.48%\t auROC: 0.948\t auPRC: 0.942\n",
      "\tRecall at 5%|10%|20% FDR: 65.1%|91.6%|95.3%\t Num Positives: 6401\t Num Negatives: 6399\n",
      "Validation Data:\n",
      "Loss: 0.3099\tBalanced Accuracy: 90.25%\t auROC: 0.935\t auPRC: 0.933\n",
      "\tRecall at 5%|10%|20% FDR: 60.7%|90.8%|94.3%\t Num Positives: 1617\t Num Negatives: 1583\n",
      "Training Data:\n",
      "Loss: 0.2878\tBalanced Accuracy: 90.59%\t auROC: 0.948\t auPRC: 0.942\n",
      "\tRecall at 5%|10%|20% FDR: 65.7%|91.7%|95.3%\t Num Positives: 6401\t Num Negatives: 6399\n",
      "Validation Data:\n",
      "Loss: 0.3101\tBalanced Accuracy: 90.37%\t auROC: 0.935\t auPRC: 0.933\n",
      "\tRecall at 5%|10%|20% FDR: 60.4%|90.8%|94.3%\t Num Positives: 1617\t Num Negatives: 1583\n",
      "Training Data:\n",
      "Loss: 0.2879\tBalanced Accuracy: 90.38%\t auROC: 0.948\t auPRC: 0.942\n",
      "\tRecall at 5%|10%|20% FDR: 65.8%|91.7%|95.4%\t Num Positives: 6401\t Num Negatives: 6399\n",
      "Validation Data:\n",
      "Loss: 0.3108\tBalanced Accuracy: 89.98%\t auROC: 0.936\t auPRC: 0.934\n",
      "\tRecall at 5%|10%|20% FDR: 60.8%|90.8%|94.3%\t Num Positives: 1617\t Num Negatives: 1583\n",
      "Training Data:\n",
      "Loss: 0.2868\tBalanced Accuracy: 90.55%\t auROC: 0.948\t auPRC: 0.942\n",
      "\tRecall at 5%|10%|20% FDR: 65.8%|91.8%|95.4%\t Num Positives: 6401\t Num Negatives: 6399\n",
      "Validation Data:\n",
      "Loss: 0.3101\tBalanced Accuracy: 90.16%\t auROC: 0.936\t auPRC: 0.933\n",
      "\tRecall at 5%|10%|20% FDR: 60.4%|90.8%|94.4%\t Num Positives: 1617\t Num Negatives: 1583\n",
      "Training Data:\n",
      "Loss: 0.2866\tBalanced Accuracy: 90.70%\t auROC: 0.948\t auPRC: 0.942\n",
      "\tRecall at 5%|10%|20% FDR: 65.8%|91.8%|95.3%\t Num Positives: 6401\t Num Negatives: 6399\n",
      "Validation Data:\n",
      "Loss: 0.3096\tBalanced Accuracy: 90.31%\t auROC: 0.936\t auPRC: 0.933\n",
      "\tRecall at 5%|10%|20% FDR: 60.4%|90.7%|94.3%\t Num Positives: 1617\t Num Negatives: 1583\n",
      "Training Data:\n",
      "Loss: 0.2887\tBalanced Accuracy: 90.20%\t auROC: 0.948\t auPRC: 0.942\n",
      "\tRecall at 5%|10%|20% FDR: 66.4%|91.8%|95.5%\t Num Positives: 6401\t Num Negatives: 6399\n",
      "Validation Data:\n",
      "Loss: 0.3127\tBalanced Accuracy: 89.64%\t auROC: 0.936\t auPRC: 0.933\n",
      "\tRecall at 5%|10%|20% FDR: 61.3%|90.8%|94.4%\t Num Positives: 1617\t Num Negatives: 1583\n",
      "Training Data:\n",
      "Loss: 0.2873\tBalanced Accuracy: 90.30%\t auROC: 0.948\t auPRC: 0.942\n",
      "\tRecall at 5%|10%|20% FDR: 65.2%|91.9%|95.4%\t Num Positives: 6401\t Num Negatives: 6399\n",
      "Validation Data:\n",
      "Loss: 0.3113\tBalanced Accuracy: 89.89%\t auROC: 0.936\t auPRC: 0.933\n",
      "\tRecall at 5%|10%|20% FDR: 60.5%|90.8%|94.4%\t Num Positives: 1617\t Num Negatives: 1583\n",
      "Training Data:\n",
      "Loss: 0.2854\tBalanced Accuracy: 90.70%\t auROC: 0.949\t auPRC: 0.942\n",
      "\tRecall at 5%|10%|20% FDR: 65.8%|91.9%|95.5%\t Num Positives: 6401\t Num Negatives: 6399\n",
      "Validation Data:\n",
      "Loss: 0.3094\tBalanced Accuracy: 90.31%\t auROC: 0.936\t auPRC: 0.934\n",
      "\tRecall at 5%|10%|20% FDR: 60.5%|90.8%|94.3%\t Num Positives: 1617\t Num Negatives: 1583\n",
      "Training Data:\n",
      "Loss: 0.2849\tBalanced Accuracy: 90.68%\t auROC: 0.949\t auPRC: 0.943\n",
      "\tRecall at 5%|10%|20% FDR: 66.3%|91.9%|95.5%\t Num Positives: 6401\t Num Negatives: 6399\n",
      "Validation Data:\n",
      "Loss: 0.3094\tBalanced Accuracy: 90.38%\t auROC: 0.936\t auPRC: 0.934\n",
      "\tRecall at 5%|10%|20% FDR: 60.4%|90.9%|94.2%\t Num Positives: 1617\t Num Negatives: 1583\n",
      "Training Data:\n",
      "Loss: 0.2856\tBalanced Accuracy: 90.48%\t auROC: 0.949\t auPRC: 0.942\n",
      "\tRecall at 5%|10%|20% FDR: 65.7%|91.9%|95.4%\t Num Positives: 6401\t Num Negatives: 6399\n",
      "Validation Data:\n",
      "Loss: 0.3106\tBalanced Accuracy: 90.23%\t auROC: 0.936\t auPRC: 0.933\n",
      "\tRecall at 5%|10%|20% FDR: 60.4%|90.8%|94.2%\t Num Positives: 1617\t Num Negatives: 1583\n",
      "Training Data:\n",
      "Loss: 0.2843\tBalanced Accuracy: 90.61%\t auROC: 0.949\t auPRC: 0.943\n",
      "\tRecall at 5%|10%|20% FDR: 66.4%|91.9%|95.5%\t Num Positives: 6401\t Num Negatives: 6399\n",
      "Validation Data:\n",
      "Loss: 0.3097\tBalanced Accuracy: 90.41%\t auROC: 0.936\t auPRC: 0.934\n",
      "\tRecall at 5%|10%|20% FDR: 61.0%|90.8%|94.3%\t Num Positives: 1617\t Num Negatives: 1583\n",
      "Training Data:\n",
      "Loss: 0.2846\tBalanced Accuracy: 90.59%\t auROC: 0.949\t auPRC: 0.943\n",
      "\tRecall at 5%|10%|20% FDR: 66.4%|92.0%|95.5%\t Num Positives: 6401\t Num Negatives: 6399\n",
      "Validation Data:\n",
      "Loss: 0.3106\tBalanced Accuracy: 90.23%\t auROC: 0.936\t auPRC: 0.934\n",
      "\tRecall at 5%|10%|20% FDR: 60.9%|90.9%|94.2%\t Num Positives: 1617\t Num Negatives: 1583\n",
      "Training Data:\n",
      "Loss: 0.2839\tBalanced Accuracy: 90.70%\t auROC: 0.950\t auPRC: 0.944\n",
      "\tRecall at 5%|10%|20% FDR: 66.0%|92.1%|95.7%\t Num Positives: 6401\t Num Negatives: 6399\n",
      "Validation Data:\n",
      "Loss: 0.3100\tBalanced Accuracy: 90.41%\t auROC: 0.936\t auPRC: 0.934\n",
      "\tRecall at 5%|10%|20% FDR: 61.4%|90.8%|94.3%\t Num Positives: 1617\t Num Negatives: 1583\n",
      "Training Data:\n",
      "Loss: 0.2836\tBalanced Accuracy: 90.73%\t auROC: 0.949\t auPRC: 0.943\n",
      "\tRecall at 5%|10%|20% FDR: 65.8%|91.9%|95.5%\t Num Positives: 6401\t Num Negatives: 6399\n",
      "Validation Data:\n",
      "Loss: 0.3097\tBalanced Accuracy: 90.28%\t auROC: 0.936\t auPRC: 0.934\n",
      "\tRecall at 5%|10%|20% FDR: 60.9%|90.8%|94.4%\t Num Positives: 1617\t Num Negatives: 1583\n",
      "Training Data:\n",
      "Loss: 0.2863\tBalanced Accuracy: 90.29%\t auROC: 0.949\t auPRC: 0.943\n",
      "\tRecall at 5%|10%|20% FDR: 66.1%|92.0%|95.5%\t Num Positives: 6401\t Num Negatives: 6399\n",
      "Validation Data:\n",
      "Loss: 0.3131\tBalanced Accuracy: 89.83%\t auROC: 0.936\t auPRC: 0.934\n",
      "\tRecall at 5%|10%|20% FDR: 60.5%|91.0%|94.4%\t Num Positives: 1617\t Num Negatives: 1583\n",
      "Training Data:\n",
      "Loss: 0.2829\tBalanced Accuracy: 90.79%\t auROC: 0.950\t auPRC: 0.943\n",
      "\tRecall at 5%|10%|20% FDR: 66.3%|92.0%|95.6%\t Num Positives: 6401\t Num Negatives: 6399\n",
      "Validation Data:\n",
      "Loss: 0.3096\tBalanced Accuracy: 90.47%\t auROC: 0.936\t auPRC: 0.934\n",
      "\tRecall at 5%|10%|20% FDR: 60.7%|91.0%|94.4%\t Num Positives: 1617\t Num Negatives: 1583\n"
     ]
    },
    {
     "data": {
      "image/png": "[encoded data removed]",
      "text/plain": [
       "<Figure size 720x288 with 1 Axes>"
      ]
     },
     "metadata": {},
     "output_type": "display_data"
    },
    {
     "name": "stdout",
     "output_type": "stream",
     "text": [
      "Loss: 0.3269\tBalanced Accuracy: 89.16%\t auROC: 0.931\t auPRC: 0.924\n",
      "\tRecall at 5%|10%|20% FDR: 45.3%|84.1%|94.9%\t Num Positives: 1982\t Num Negatives: 2018\n"
     ]
    },
    {
     "data": {
      "image/png": "[encoded data removed]",
      "text/plain": [
       "<Figure size 1440x216 with 2 Axes>"
      ]
     },
     "metadata": {},
     "output_type": "display_data"
    },
    {
     "data": {
      "image/png": "[encoded data removed]",
      "text/plain": [
       "<Figure size 1440x216 with 2 Axes>"
      ]
     },
     "metadata": {},
     "output_type": "display_data"
    },
    {
     "data": {
      "image/png": "[encoded data removed]",
      "text/plain": [
       "<Figure size 1440x216 with 2 Axes>"
      ]
     },
     "metadata": {},
     "output_type": "display_data"
    },
    {
     "ename": "TypeError",
     "evalue": "'builtin_function_or_method' object is not subscriptable",
     "output_type": "error",
     "traceback": [
      "\u001b[0;31m---------------------------------------------------------------------------\u001b[0m",
      "\u001b[0;31mTypeError\u001b[0m                                 Traceback (most recent call last)",
      "\u001b[0;32m<ipython-input-32-c7336887fcbd>\u001b[0m in \u001b[0;36m<module>\u001b[0;34m()\u001b[0m\n\u001b[0;32m----> 1\u001b[0;31m \u001b[0mpos_X\u001b[0m\u001b[0;34m,\u001b[0m \u001b[0mneg_X\u001b[0m\u001b[0;34m,\u001b[0m \u001b[0mism_pos\u001b[0m\u001b[0;34m,\u001b[0m \u001b[0mism_neg\u001b[0m\u001b[0;34m,\u001b[0m \u001b[0mgradinput_pos\u001b[0m\u001b[0;34m,\u001b[0m \u001b[0mgradinput_neg\u001b[0m\u001b[0;34m,\u001b[0m \u001b[0mdl_pos\u001b[0m\u001b[0;34m,\u001b[0m \u001b[0mdl_neg\u001b[0m\u001b[0;34m=\u001b[0m\u001b[0manalyze\u001b[0m\u001b[0;34m(\u001b[0m\u001b[0mtal1_model\u001b[0m\u001b[0;34m,\u001b[0m\u001b[0mtal1_data\u001b[0m\u001b[0;34m,\u001b[0m\u001b[0;36m1\u001b[0m\u001b[0;34m,\u001b[0m\u001b[0;36m1\u001b[0m\u001b[0;34m)\u001b[0m\u001b[0;34m\u001b[0m\u001b[0m\n\u001b[0m",
      "\u001b[0;32m<ipython-input-26-2db5dc7fa37d>\u001b[0m in \u001b[0;36manalyze\u001b[0;34m(model, data, pos_index, neg_index)\u001b[0m\n\u001b[1;32m      5\u001b[0m     \u001b[0mcompute_performance\u001b[0m\u001b[0;34m(\u001b[0m\u001b[0mmodel\u001b[0m\u001b[0;34m,\u001b[0m\u001b[0mdata\u001b[0m\u001b[0;34m)\u001b[0m\u001b[0;34m\u001b[0m\u001b[0m\n\u001b[1;32m      6\u001b[0m     \u001b[0mpos_X\u001b[0m\u001b[0;34m,\u001b[0m\u001b[0mneg_X\u001b[0m\u001b[0;34m=\u001b[0m\u001b[0mextract_pos_and_neg_validation_sample\u001b[0m\u001b[0;34m(\u001b[0m\u001b[0mdata\u001b[0m\u001b[0;34m,\u001b[0m\u001b[0mpos_index\u001b[0m\u001b[0;34m,\u001b[0m\u001b[0mneg_index\u001b[0m\u001b[0;34m)\u001b[0m\u001b[0;34m\u001b[0m\u001b[0m\n\u001b[0;32m----> 7\u001b[0;31m     \u001b[0mism_pos\u001b[0m\u001b[0;34m,\u001b[0m\u001b[0mism_neg\u001b[0m\u001b[0;34m,\u001b[0m \u001b[0mgradinput_pos\u001b[0m\u001b[0;34m,\u001b[0m \u001b[0mgradinput_neg\u001b[0m\u001b[0;34m,\u001b[0m \u001b[0mdl_pos\u001b[0m\u001b[0;34m,\u001b[0m\u001b[0mdl_neg\u001b[0m\u001b[0;34m=\u001b[0m\u001b[0minterpret\u001b[0m\u001b[0;34m(\u001b[0m\u001b[0mmodel\u001b[0m\u001b[0;34m,\u001b[0m\u001b[0mpos_X\u001b[0m\u001b[0;34m,\u001b[0m\u001b[0mneg_X\u001b[0m\u001b[0;34m,\u001b[0m\u001b[0mdata\u001b[0m\u001b[0;34m)\u001b[0m\u001b[0;34m\u001b[0m\u001b[0m\n\u001b[0m\u001b[1;32m      8\u001b[0m     \u001b[0;32mreturn\u001b[0m \u001b[0mpos_X\u001b[0m\u001b[0;34m,\u001b[0m \u001b[0mneg_X\u001b[0m\u001b[0;34m,\u001b[0m \u001b[0mism_pos\u001b[0m\u001b[0;34m,\u001b[0m \u001b[0mism_neg\u001b[0m\u001b[0;34m,\u001b[0m \u001b[0mgradinput_pos\u001b[0m\u001b[0;34m,\u001b[0m \u001b[0mgradinput_neg\u001b[0m\u001b[0;34m,\u001b[0m \u001b[0mdl_pos\u001b[0m\u001b[0;34m,\u001b[0m\u001b[0mdl_neg\u001b[0m\u001b[0;34m\u001b[0m\u001b[0m\n",
      "\u001b[0;32m<ipython-input-25-1ade12c1e3e6>\u001b[0m in \u001b[0;36minterpret\u001b[0;34m(model, pos_X, neg_X, data)\u001b[0m\n\u001b[1;32m      2\u001b[0m     \u001b[0mvisualize_motif_scores\u001b[0m\u001b[0;34m(\u001b[0m\u001b[0mmodel\u001b[0m\u001b[0;34m,\u001b[0m\u001b[0mpos_X\u001b[0m\u001b[0;34m,\u001b[0m\u001b[0mneg_X\u001b[0m\u001b[0;34m,\u001b[0m\u001b[0mdata\u001b[0m\u001b[0;34m)\u001b[0m\u001b[0;34m\u001b[0m\u001b[0m\n\u001b[1;32m      3\u001b[0m     \u001b[0mism_pos\u001b[0m\u001b[0;34m,\u001b[0m\u001b[0mism_neg\u001b[0m\u001b[0;34m=\u001b[0m\u001b[0mperform_ism\u001b[0m\u001b[0;34m(\u001b[0m\u001b[0mmodel\u001b[0m\u001b[0;34m,\u001b[0m\u001b[0mpos_X\u001b[0m\u001b[0;34m,\u001b[0m\u001b[0mneg_X\u001b[0m\u001b[0;34m,\u001b[0m\u001b[0mdata\u001b[0m\u001b[0;34m)\u001b[0m\u001b[0;34m\u001b[0m\u001b[0m\n\u001b[0;32m----> 4\u001b[0;31m     \u001b[0mgradinput_pos\u001b[0m\u001b[0;34m,\u001b[0m\u001b[0mgradinput_neg\u001b[0m\u001b[0;34m=\u001b[0m\u001b[0mcompute_gradxinput_scores\u001b[0m\u001b[0;34m(\u001b[0m\u001b[0mmodel\u001b[0m\u001b[0;34m,\u001b[0m\u001b[0mpos_X\u001b[0m\u001b[0;34m,\u001b[0m\u001b[0mneg_X\u001b[0m\u001b[0;34m,\u001b[0m\u001b[0mdata\u001b[0m\u001b[0;34m)\u001b[0m\u001b[0;34m\u001b[0m\u001b[0m\n\u001b[0m\u001b[1;32m      5\u001b[0m     \u001b[0mdl_pos\u001b[0m\u001b[0;34m,\u001b[0m\u001b[0mdl_neg\u001b[0m\u001b[0;34m=\u001b[0m\u001b[0mcompute_deeplift_scores\u001b[0m\u001b[0;34m(\u001b[0m\u001b[0mmodel\u001b[0m\u001b[0;34m,\u001b[0m\u001b[0mpos_X\u001b[0m\u001b[0;34m,\u001b[0m\u001b[0mneg_X\u001b[0m\u001b[0;34m,\u001b[0m\u001b[0mdata\u001b[0m\u001b[0;34m)\u001b[0m\u001b[0;34m\u001b[0m\u001b[0m\n\u001b[1;32m      6\u001b[0m     \u001b[0;32mreturn\u001b[0m \u001b[0mism_pos\u001b[0m\u001b[0;34m,\u001b[0m \u001b[0mism_neg\u001b[0m\u001b[0;34m,\u001b[0m \u001b[0mgradinput_pos\u001b[0m\u001b[0;34m,\u001b[0m \u001b[0mgradinput_neg\u001b[0m\u001b[0;34m,\u001b[0m \u001b[0mdl_pos\u001b[0m\u001b[0;34m,\u001b[0m \u001b[0mdl_neg\u001b[0m\u001b[0;34m\u001b[0m\u001b[0m\n",
      "\u001b[0;32m<ipython-input-23-1e72e508eb6e>\u001b[0m in \u001b[0;36mcompute_gradxinput_scores\u001b[0;34m(model, pos_X, neg_X, data)\u001b[0m\n\u001b[1;32m      3\u001b[0m     \u001b[0mgradinput_pos\u001b[0m\u001b[0;34m=\u001b[0m\u001b[0minput_grad\u001b[0m\u001b[0;34m(\u001b[0m\u001b[0mmodel\u001b[0m\u001b[0;34m,\u001b[0m\u001b[0mpos_X\u001b[0m\u001b[0;34m)\u001b[0m\u001b[0;34m\u001b[0m\u001b[0m\n\u001b[1;32m      4\u001b[0m     \u001b[0mgradinput_neg\u001b[0m\u001b[0;34m=\u001b[0m\u001b[0minput_grad\u001b[0m\u001b[0;34m(\u001b[0m\u001b[0mmodel\u001b[0m\u001b[0;34m,\u001b[0m\u001b[0mneg_X\u001b[0m\u001b[0;34m)\u001b[0m\u001b[0;34m\u001b[0m\u001b[0m\n\u001b[0;32m----> 5\u001b[0;31m     \u001b[0mmin_val\u001b[0m\u001b[0;34m=\u001b[0m\u001b[0mmin\u001b[0m\u001b[0;34m[\u001b[0m\u001b[0mmin\u001b[0m\u001b[0;34m(\u001b[0m\u001b[0mgradinput_pos\u001b[0m\u001b[0;34m)\u001b[0m\u001b[0;34m,\u001b[0m\u001b[0mmin\u001b[0m\u001b[0;34m(\u001b[0m\u001b[0mgradinput_neg\u001b[0m\u001b[0;34m)\u001b[0m\u001b[0;34m]\u001b[0m\u001b[0;34m\u001b[0m\u001b[0m\n\u001b[0m\u001b[1;32m      6\u001b[0m     \u001b[0mmax_val\u001b[0m\u001b[0;34m=\u001b[0m\u001b[0mmax\u001b[0m\u001b[0;34m[\u001b[0m\u001b[0mmax\u001b[0m\u001b[0;34m(\u001b[0m\u001b[0mgradinput_pos\u001b[0m\u001b[0;34m)\u001b[0m\u001b[0;34m,\u001b[0m\u001b[0mmax\u001b[0m\u001b[0;34m(\u001b[0m\u001b[0mgradinput_neg\u001b[0m\u001b[0;34m)\u001b[0m\u001b[0;34m]\u001b[0m\u001b[0;34m\u001b[0m\u001b[0m\n\u001b[1;32m      7\u001b[0m     \u001b[0mplot_seq_importance\u001b[0m\u001b[0;34m(\u001b[0m\u001b[0mgradinput_pos\u001b[0m\u001b[0;34m,\u001b[0m\u001b[0mpos_X\u001b[0m\u001b[0;34m,\u001b[0m\u001b[0mtitle\u001b[0m\u001b[0;34m=\u001b[0m\u001b[0;34m\"Positive\"\u001b[0m\u001b[0;34m,\u001b[0m\u001b[0mylim\u001b[0m\u001b[0;34m=\u001b[0m\u001b[0;34m(\u001b[0m\u001b[0mmin_val\u001b[0m\u001b[0;34m,\u001b[0m\u001b[0mmax_val\u001b[0m\u001b[0;34m)\u001b[0m\u001b[0;34m)\u001b[0m\u001b[0;34m\u001b[0m\u001b[0m\n",
      "\u001b[0;31mTypeError\u001b[0m: 'builtin_function_or_method' object is not subscriptable"
     ]
    }
   ],
   "source": [
    "pos_X, neg_X, ism_pos, ism_neg, gradinput_pos, gradinput_neg, dl_pos, dl_neg=analyze(tal1_model,tal1_data,1,1)"
   ]
  },
  {
   "cell_type": "markdown",
   "metadata": {},
   "source": [
    "Let's zoom in to the portion of the deepLIFT track with the strongest signal:"
   ]
  },
  {
   "cell_type": "code",
   "execution_count": 20,
   "metadata": {},
   "outputs": [
    {
     "data": {
      "image/png": "[encoded data removed]",
      "text/plain": [
       "<Figure size 1800x216 with 1 Axes>"
      ]
     },
     "metadata": {},
     "output_type": "display_data"
    },
    {
     "data": {
      "image/png": "[encoded data removed]",
      "text/plain": [
       "<Figure size 1800x216 with 1 Axes>"
      ]
     },
     "metadata": {},
     "output_type": "display_data"
    }
   ],
   "source": [
    "plot_seq_importance(dl_pos,pos_X,xlim=(220,275),title=\"Positive Zoomed\")\n",
    "plot_seq_importance(dl_neg,neg_X,xlim=(220,275),title=\"Negative Zoomed\")"
   ]
  },
  {
   "cell_type": "markdown",
   "metadata": {},
   "source": [
    "## Homotypic motif density detection <a name='5'>\n",
    "<a href=#outline>Home</a>"
   ]
  },
  {
   "cell_type": "code",
   "execution_count": 21,
   "metadata": {},
   "outputs": [],
   "source": [
    "#Define simulation parameters \n",
    "density_detection_parameters={\n",
    "    \"motif_name\": \"TAL1_known4\",\n",
    "    \"seq_length\": 500,\n",
    "    \"neg_counts\":[0,2],\n",
    "    \"pos_counts\":[3,5],\n",
    "    \"num_pos\": 10000,\n",
    "    \"num_neg\": 10000,\n",
    "    \"GC_fraction\":0.4\n",
    "}\n",
    "\n",
    "#Get simulation data\n",
    "density_detection_data=get_simulation_data(\"simulate_motif_counting\",\n",
    "                               density_detection_parameters,\n",
    "                               validation_set_size=3200,test_set_size=4000)\n",
    "\n"
   ]
  },
  {
   "cell_type": "code",
   "execution_count": null,
   "metadata": {},
   "outputs": [],
   "source": [
    "#Define the optimal model architecture in keras (Refer to Primer Tutorial 2)\n",
    "density_detection_model=Sequential() \n",
    "density_detection_model.add(Conv2D(filters=10,kernel_size=(1,15),input_shape=density_detection_data.X_train.shape[1::]))\n",
    "density_detection_model.add(Activation('relu'))\n",
    "density_detection_model.add(MaxPooling2D(pool_size=(1,35)))\n",
    "density_detection_model.add(Flatten())\n",
    "density_detection_model.add(Dense(1))\n",
    "density_detection_model.add(Activation(\"sigmoid\"))\n",
    "\n",
    "##compile the model, specifying the Adam optimizer, and binary cross-entropy loss. \n",
    "density_detection_model.compile(optimizer='adam',\n",
    "                               loss='binary_crossentropy')\n"
   ]
  },
  {
   "cell_type": "code",
   "execution_count": null,
   "metadata": {},
   "outputs": [],
   "source": [
    "pos_X, neg_X, ism_pos, ism_neg, gradinput_pos, gradinput_neg, dl_pos, dl_neg=analyze(density_detection_model,density_detection_data,1,1)"
   ]
  },
  {
   "cell_type": "code",
   "execution_count": null,
   "metadata": {},
   "outputs": [],
   "source": [
    "plot_seq_importance(dl_pos,pos_X,xlim=(200,350),title=\"Positive, Zoomed\")\n",
    "plot_seq_importance(dl_neg,neg_X,xlim=(200,350),title=\"Negative, Zoomed\")"
   ]
  },
  {
   "cell_type": "markdown",
   "metadata": {},
   "source": [
    "## Homotypic motif density localization <a name='6'>\n",
    "<a href=#outline>Home</a>"
   ]
  },
  {
   "cell_type": "code",
   "execution_count": null,
   "metadata": {},
   "outputs": [],
   "source": [
    "#Define simulation parameters \n",
    "density_localization_parameters = {\n",
    "    \"motif_name\": \"TAL1_known4\",\n",
    "    \"seq_length\": 1000,\n",
    "    \"center_size\": 150,\n",
    "    \"min_motif_counts\": 2,\n",
    "    \"max_motif_counts\": 4, \n",
    "    \"num_pos\": 10000,\n",
    "    \"num_neg\": 10000,\n",
    "    \"GC_fraction\": 0.4}\n",
    "\n",
    "#Get simulation data\n",
    "density_localization_data=get_simulation_data(\"simulate_motif_density_localization\",\n",
    "                               density_localization_parameters,\n",
    "                               validation_set_size=3200,test_set_size=4000)\n",
    "\n"
   ]
  },
  {
   "cell_type": "code",
   "execution_count": null,
   "metadata": {},
   "outputs": [],
   "source": [
    "#Define the optimal model architecture in keras (Refer to Primer Tutorial 2)\n",
    "density_localization_model=Sequential() \n",
    "density_localization_model.add(Conv2D(filters=5,kernel_size=(1,10),input_shape=density_localization_data.X_train.shape[1::]))\n",
    "density_localization_model.add(Activation('relu'))\n",
    "density_localization_model.add(MaxPooling2D(pool_size=(1,10)))\n",
    "density_localization_model.add(Flatten())\n",
    "density_localization_model.add(Dense(1))\n",
    "density_localization_model.add(Activation(\"sigmoid\"))\n",
    "\n",
    "##compile the model, specifying the Adam optimizer, and binary cross-entropy loss. \n",
    "density_localization_model.compile(optimizer='adam',\n",
    "                               loss='binary_crossentropy')"
   ]
  },
  {
   "cell_type": "code",
   "execution_count": null,
   "metadata": {},
   "outputs": [],
   "source": [
    "pos_X, neg_X, ism_pos, ism_neg, gradinput_pos, gradinput_neg, dl_pos, dl_neg=analyze(density_localization_model,density_localization_data,1,1)"
   ]
  },
  {
   "cell_type": "code",
   "execution_count": null,
   "metadata": {},
   "outputs": [],
   "source": [
    "plot_seq_importance(dl_pos,pos_X,xlim=(220,275),title=\"Positive\")\n",
    "plot_seq_importance(dl_neg,neg_X,xlim=(220,275),title=\"Negative\")"
   ]
  },
  {
   "cell_type": "markdown",
   "metadata": {},
   "source": [
    "## Multiple motifs (multi-task)<a name='7'>\n",
    "<a href=#outline>Home</a>"
   ]
  },
  {
   "cell_type": "code",
   "execution_count": null,
   "metadata": {},
   "outputs": [],
   "source": [
    "#Define simulation parameters \n",
    "multi_motif_parameters = {\n",
    "    \"motif_names\": [\"CTCF_known1\",\"ZNF143_known2\",\"SIX5_known1\"],\n",
    "    \"seq_length\": 500,\n",
    "    \"min_num_motifs\": 0,\n",
    "    \"max_num_motifs\": 1, \n",
    "    \"num_seqs\": 20000,\n",
    "    \"GC_fraction\": 0.4}\n",
    "\n",
    "#Get simulation data\n",
    "multi_motif_data=get_simulation_data(\"simulate_multi_motif_embedding\",\n",
    "                               multi_motif_parameters,\n",
    "                               validation_set_size=3200,test_set_size=4000)\n",
    "\n"
   ]
  },
  {
   "cell_type": "code",
   "execution_count": null,
   "metadata": {},
   "outputs": [],
   "source": [
    "#Define the optimal model architecture in keras (Refer to Primer Tutorial 2)\n",
    "multi_motif_model=Sequential() \n",
    "multi_motif_model.add(Conv2D(filters=20,kernel_size=(1,20),input_shape=multi_motif_data.X_train.shape[1::]))\n",
    "multi_motif_model.add(Activation('relu'))\n",
    "multi_motif_model.add(MaxPooling2D(pool_size=(1,10)))\n",
    "multi_motif_model.add(Flatten())\n",
    "multi_motif_model.add(Dense(3))\n",
    "multi_motif_model.add(Activation(\"sigmoid\"))\n",
    "\n",
    "##compile the model, specifying the Adam optimizer, and binary cross-entropy loss. \n",
    "multi_motif_model.compile(optimizer='adam',\n",
    "                               loss='binary_crossentropy')"
   ]
  },
  {
   "cell_type": "code",
   "execution_count": null,
   "metadata": {},
   "outputs": [],
   "source": [
    "pos_X, neg_X, ism_pos, ism_neg, gradinput_pos, gradinput_neg, dl_pos, dl_neg=analyze(multi_motif_model, multi_motif_data,1,1)"
   ]
  },
  {
   "cell_type": "code",
   "execution_count": null,
   "metadata": {},
   "outputs": [],
   "source": [
    "plot_seq_importance(dl_pos,pos_X,xlim=(220,275),title=\"Positive\")\n",
    "plot_seq_importance(dl_neg,neg_X,xlim=(220,275),title=\"Negative\")"
   ]
  },
  {
   "cell_type": "markdown",
   "metadata": {},
   "source": [
    "## Heterotypic motifs spatial grammar<a name='8'>\n",
    "<a href=#outline>Home</a>"
   ]
  },
  {
   "cell_type": "code",
   "execution_count": null,
   "metadata": {},
   "outputs": [],
   "source": [
    "#Define simulation parameters \n",
    "heterodimer_parameters = {\n",
    "    \"motif1\": \"SPI1_known4\",\n",
    "    \"motif2\": \"IRF_known1\",\n",
    "    \"seq_length\": 500,\n",
    "    \"min_spacing\": 2,\n",
    "    \"max_spacing\": 5, \n",
    "    \"num_pos\": 10000,\n",
    "    \"num_neg\": 10000,\n",
    "    \"GC_fraction\": 0.4}\n",
    "\n",
    "#Get simulation data\n",
    "heterodimer_data=get_simulation_data(\"simulate_heterodimer_grammar\",\n",
    "                               heterodimer_parameters,\n",
    "                               validation_set_size=3200,test_set_size=4000)"
   ]
  },
  {
   "cell_type": "code",
   "execution_count": null,
   "metadata": {},
   "outputs": [],
   "source": [
    "heterodimer_model=Sequential()\n",
    "heterodimer_model.add(Conv2D(filters=15,kernel_size=(1,15),input_shape=input_shape))\n",
    "heterodimer_model.add(Activation(\"relu\"))\n",
    "heterodimer_model.add(Conv2D(filters=15,kernel_size=(1,15),input_shape=input_shape))\n",
    "heterodimer_model.add(Activation(\"relu\"))\n",
    "heterodimer_model.add(Conv2D(filters=15,kernel_size=(1,15),input_shape=input_shape))\n",
    "heterodimer_model.add(Activation(\"relu\"))\n",
    "heterodimer_model.add(MaxPooling2D(pool_size=(1,35)))    \n",
    "heterodimer_model.add(Flatten())\n",
    "heterodimer_model.add(Dense(num_tasks))\n",
    "heterodimer_model.add(Activation(\"sigmoid\"))\n",
    "heterodimer_model.compile(optimizer='adam',loss='binary_crossentropy')\n"
   ]
  },
  {
   "cell_type": "code",
   "execution_count": null,
   "metadata": {},
   "outputs": [],
   "source": [
    "pos_X, neg_X, ism_pos, ism_neg, gradinput_pos, gradinput_neg, dl_pos, dl_neg=analyze(heterodimer_model,heterodimer_data,1,1)"
   ]
  },
  {
   "cell_type": "code",
   "execution_count": null,
   "metadata": {},
   "outputs": [],
   "source": [
    "plot_seq_importance(dl_pos,pos_X,xlim=(220,275),title=\"Positive\")\n",
    "plot_seq_importance(dl_neg,neg_X,xlim=(220,275),title=\"Negative\")"
   ]
  },
  {
   "cell_type": "markdown",
   "metadata": {},
   "source": [
    "## Conclusions<a name='9'>\n",
    "<a href=#outline>Home</a>"
   ]
  },
  {
   "cell_type": "code",
   "execution_count": null,
   "metadata": {},
   "outputs": [],
   "source": []
  }
 ],
 "metadata": {
  "kernelspec": {
   "display_name": "Python 3",
   "language": "python",
   "name": "python3"
  },
  "language_info": {
   "codemirror_mode": {
    "name": "ipython",
    "version": 3
   },
   "file_extension": ".py",
   "mimetype": "text/x-python",
   "name": "python",
   "nbconvert_exporter": "python",
   "pygments_lexer": "ipython3",
   "version": "3.6.5"
  }
 },
 "nbformat": 4,
 "nbformat_minor": 2
}
