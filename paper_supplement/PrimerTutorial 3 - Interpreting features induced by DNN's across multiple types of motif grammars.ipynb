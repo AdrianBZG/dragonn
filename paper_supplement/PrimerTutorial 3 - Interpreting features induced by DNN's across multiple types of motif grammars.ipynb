{
 "cells": [
  {
   "cell_type": "markdown",
   "metadata": {},
   "source": [
    "Todo: \n",
    "* investigate nan's in test set \n",
    "* threshold motif scores at 0 \n",
    "* overlay motif scores and deepLIFT tracks \n",
    "* add grad x input \n",
    "* PRC curves \n",
    "* option of shuffled reference & background frequencies for deepLIFT \n",
    "* fixed axes on deepLIFT plots\n",
    "\n",
    "\n",
    "# How to train your DragoNN tutorial 3: \n",
    "## Interpreting features induced by DNN's across multiple types of motif grammars \n",
    "\n",
    "This tutorial is a supplement to the DragoNN manuscript and follows figure 7 in the manuscript. \n",
    "\n",
    "This tutorial will take 1 hour  if executed on a GPU. \n",
    "\n",
    "Please complete \"Primer Tutorial 1- Exploring model architectures for a homotypic motif density simulation\" prior to completing this tutorial. \n",
    "\n",
    "The architectures used in this tutorial were determined as optimal by hyperparameter grid search in \"Primer Tutorial 3 - CNN Hyperparameter Tuning via Grid Search\"\n",
    "\n",
    "\n",
    "## Outline<a name='outline'>\n",
    "<ol>\n",
    "    <li><a href=#1>How to use this tutorial</a></li>\n",
    "    <li><a href=#2>Defining helper functions for model training and interpretation</a></li>\n",
    "    TODO: explain reference options. \n",
    "    <li><a href=#3>Simulating training data with simdna: Review of Tutorial 1</a></li>\n",
    "    <li><a href=#4>Single Motif</a></li>\n",
    "    <li><a href=#5>Homotypic motif density detection</a></li>\n",
    "    <li><a href=#6>Homotypic motif density localization</a></li>\n",
    "    <li><a href=#7>Multiple motifs (multi-task)</a></li>  \n",
    "    <li><a href=#8>Heterotypic motifs spatial grammar</a></li>\n",
    "    <li><a href=#9>Conclusions</a></li>\n",
    "</ol>\n",
    "Github issues on the dragonn repository with feedback, questions, and discussion are always welcome.\n",
    "\n",
    " "
   ]
  },
  {
   "cell_type": "markdown",
   "metadata": {},
   "source": [
    "## How to use this tutorial<a name='1'>\n",
    "<a href=#outline>Home</a>\n",
    "\n",
    "This tutorial utilizes a Jupyter/IPython Notebook - an interactive computational enviroment that combines live code, visualizations, and explanatory text. The notebook is organized into a series of cells. You can run the next cell by cliking the play button:\n",
    "![play button](./primer_tutorial_images/play_button.png)\n",
    "You can also run all cells in a series by clicking \"run all\" in the Cell drop-down menu:\n",
    "![play all button](./primer_tutorial_images/play_all_button.png)\n",
    "Half of the cells in this tutorial contain code, the other half contain visualizations and explanatory text. Code, visualizations, and text in cells can be modified - you are encouraged to modify the code as you advance through the tutorial. You can inspect the implementation of a function used in a cell by following these steps:\n",
    "![inspecting code](./primer_tutorial_images/inspecting_code.png)\n"
   ]
  },
  {
   "cell_type": "code",
   "execution_count": 1,
   "metadata": {},
   "outputs": [],
   "source": [
    "#uncomment the lines below if you are running this tutorial from Google Colab \n",
    "#!pip install https://github.com/kundajelab/simdna/archive/0.3.zip\n",
    "#!pip install https://github.com/kundajelab/dragonn/archive/keras_2.2_tensorflow_1.6_purekeras.zip\n"
   ]
  },
  {
   "cell_type": "code",
   "execution_count": 2,
   "metadata": {},
   "outputs": [
    {
     "name": "stderr",
     "output_type": "stream",
     "text": [
      "Using TensorFlow backend.\n"
     ]
    }
   ],
   "source": [
    "#To prepare for model training, we import the necessary functions and submodules from keras\n",
    "from keras.models import Sequential\n",
    "from keras.layers.core import Dropout, Reshape, Dense, Activation, Flatten\n",
    "from keras.layers.convolutional import Conv2D, MaxPooling2D\n",
    "from keras.optimizers import Adadelta, SGD, RMSprop;\n",
    "import keras.losses;\n",
    "from keras.constraints import maxnorm;\n",
    "from keras.layers.normalization import BatchNormalization\n",
    "from keras.regularizers import l1, l2\n",
    "from keras.callbacks import EarlyStopping, History\n",
    "from keras import backend as K \n",
    "K.set_image_data_format('channels_last')"
   ]
  },
  {
   "cell_type": "markdown",
   "metadata": {},
   "source": [
    "We start by loading dragonn's tutorial utilities."
   ]
  },
  {
   "cell_type": "code",
   "execution_count": 3,
   "metadata": {},
   "outputs": [
    {
     "name": "stderr",
     "output_type": "stream",
     "text": [
      "/users/annashch/miniconda3/lib/python3.6/site-packages/sklearn/ensemble/weight_boosting.py:29: DeprecationWarning: numpy.core.umath_tests is an internal NumPy module and should not be imported. It will be removed in a future NumPy release.\n",
      "  from numpy.core.umath_tests import inner1d\n"
     ]
    }
   ],
   "source": [
    "#load dragonn tutorial utilities \n",
    "%reload_ext autoreload\n",
    "%autoreload 2\n",
    "%matplotlib inline\n",
    "import warnings\n",
    "warnings.filterwarnings('ignore')\n",
    "\n",
    "from dragonn.tutorial_utils import *"
   ]
  },
  {
   "cell_type": "markdown",
   "metadata": {},
   "source": [
    "## Defining helper functions for model training and interpretation  <a name='2'>\n",
    "<a href=#outline>Home</a>\n"
   ]
  },
  {
   "cell_type": "markdown",
   "metadata": {},
   "source": [
    "For each type of simulation, we will perform a consistent set of tasks: \n",
    "* Define the optimal model architecture, as determined in Tutorial 2. This architecture will be specific to the simulation used, so we don't write a universal helper function for this purpose. \n",
    "* Train the model on simulation data and visualize the model's learning curve on training and validation data. \n",
    "* Compute the model's performance on a held-out test set.\n",
    "* Visualize motif scores for a positive and negative example. \n",
    "* Perform in silico mutagenesis for a positive and negative example.\n",
    "* Compute DeepLIFT scores for a positive and negative example.\n",
    "\n",
    "To avoid writing the same code for each scenario, we define a series of helpers functions to perform the tasks above. "
   ]
  },
  {
   "cell_type": "code",
   "execution_count": 4,
   "metadata": {},
   "outputs": [],
   "source": [
    "from dragonn.callbacks import * \n",
    "from dragonn.tutorial_utils import plot_learning_curve\n",
    "\n",
    "def train_model(model,data):\n",
    "    #We define a custom callback to print training and validation metrics while training. \n",
    "    metrics_callback=MetricsCallback(train_data=(data.X_train,data.y_train),validation_data=(data.X_valid,data.y_valid))\n",
    "    \n",
    "    #Train the model \n",
    "    history=model.fit(x=data.X_train,\n",
    "                                  y=data.y_train,\n",
    "                                  batch_size=128,\n",
    "                                  epochs=150,\n",
    "                                  verbose=0,\n",
    "                                  callbacks=[EarlyStopping(patience=7),\n",
    "                                            History(),\n",
    "                                            metrics_callback],\n",
    "                                  validation_data=(data.X_valid,\n",
    "                                                   data.y_valid))\n",
    "    \n",
    "    #Visualize the model's performance curve \n",
    "    plot_learning_curve(history)\n",
    "    return model"
   ]
  },
  {
   "cell_type": "code",
   "execution_count": 5,
   "metadata": {},
   "outputs": [],
   "source": [
    "#Compute model performance on a held out test set \n",
    "def compute_performance(model,data):\n",
    "    test_predictions=model.predict(data.X_test)\n",
    "    ## Generate a ClassificationResult object to print performance metrics on held-out test set \n",
    "    print(ClassificationResult(data.y_test,test_predictions))\n"
   ]
  },
  {
   "cell_type": "code",
   "execution_count": 6,
   "metadata": {},
   "outputs": [],
   "source": [
    "def extract_pos_and_neg_validation_sample(data,pos_index,neg_index):\n",
    "#get the indices of the specified positive and negative examples in the validation data split\n",
    "    pos_index=np.flatnonzero(data.y_valid==1)[pos_index]\n",
    "    pos_X=data.X_valid[pos_index:pos_index+1]\n",
    "    neg_index=np.flatnonzero(data.y_valid==0)[neg_index]\n",
    "    neg_X=data.X_valid[neg_index:neg_index+1]\n",
    "    return pos_X,neg_X"
   ]
  },
  {
   "cell_type": "code",
   "execution_count": 7,
   "metadata": {},
   "outputs": [],
   "source": [
    "#Visualize motif scores for a positive and negative example \n",
    "#pos_index: index value of a simulated positive datapoint to use for motif visualization \n",
    "#neg_index: index value of a simulated negative datapoint to use for motif visualization \n",
    "def visualize_motif_scores(model,pos_X,neg_X,data): \n",
    "    pos_motif_scores=get_motif_scores(pos_X,data.motif_names,return_positions=True).squeeze()\n",
    "    neg_motif_scores=get_motif_scores(neg_X,data.motif_names,return_positions=True).squeeze()\n",
    "    plt.figure(figsize=(20,3))\n",
    "    ax1=plt.subplot(211)\n",
    "    ax2=plt.subplot(212)\n",
    "    \n",
    "    ax1.plot(pos_motif_scores, \"-o\")\n",
    "    ax1.set_xlabel(\"Sequence base\")\n",
    "    ax1.set_ylabel(\"Motif scan score\")\n",
    "    ax1.set_title(\"Positive example\")\n",
    "\n",
    "    ax2.plot(neg_motif_scores, \"-o\")\n",
    "    ax2.set_xlabel(\"Sequence base\")\n",
    "    ax2.set_ylabel(\"Motif scan score\")\n",
    "    ax2.set_title(\"Negative example\")\n",
    "    plt.show()\n"
   ]
  },
  {
   "cell_type": "code",
   "execution_count": 8,
   "metadata": {},
   "outputs": [],
   "source": [
    "from dragonn.tutorial_utils import in_silico_mutagenesis, plot_ism\n",
    "\n",
    "def perform_ism(model,pos_X,neg_X,data): \n",
    "    ism_pos=in_silico_mutagenesis(model,pos_X)\n",
    "    ism_neg=in_silico_mutagenesis(model,neg_X)\n",
    "    plot_ism(ism_pos,\"Positive Example\")\n",
    "    plot_ism(ism_neg,\"Negative Example\")\n",
    "    return ism_pos, ism_neg"
   ]
  },
  {
   "cell_type": "code",
   "execution_count": 9,
   "metadata": {},
   "outputs": [],
   "source": [
    "from dragonn.tutorial_utils import input_grad\n",
    "def compute_gradxinput_scores(model,pos_X,neg_X,data):\n",
    "    gradinput_pos=input_grad(model,pos_X)\n",
    "    gradinput_neg=input_grad(model,neg_X)\n",
    "    plot_seq_importance(gradinput_pos,pos_X,title=\"Positive\")\n",
    "    plot_seq_importance(gradinput_neg,neg_X,title=\"Negative\")\n",
    "    return gradinput_pos,gradinput_neg "
   ]
  },
  {
   "cell_type": "code",
   "execution_count": 10,
   "metadata": {},
   "outputs": [],
   "source": [
    "from dragonn.tutorial_utils import deeplift\n",
    "\n",
    "def compute_deeplift_scores(model,pos_X,neg_X,data):\n",
    "    dl_pos=deeplift(model,pos_X)\n",
    "    dl_neg=deeplift(model,neg_X)\n",
    "    plot_seq_importance(dl_pos,pos_X,title=\"Positive\")\n",
    "    plot_seq_importance(dl_neg,neg_X,title=\"Negative\")\n",
    "    return dl_pos,dl_neg"
   ]
  },
  {
   "cell_type": "code",
   "execution_count": 12,
   "metadata": {},
   "outputs": [],
   "source": [
    "def interpret(model,pos_X,neg_X,data): \n",
    "    visualize_motif_scores(model,pos_X,neg_X,data)\n",
    "    ism_pos,ism_neg=perform_ism(model,pos_X,neg_X,data)\n",
    "    gradinput_pos,gradinput_neg=compute_gradxinput_scores(model,pos_X,neg_X,data)\n",
    "    dl_pos,dl_neg=compute_deeplift_scores(model,pos_X,neg_X,data)\n",
    "    return ism_pos, ism_neg, gradinput_pos, gradinput_neg, dl_pos, dl_neg "
   ]
  },
  {
   "cell_type": "code",
   "execution_count": 13,
   "metadata": {},
   "outputs": [],
   "source": [
    "#Run the full data analysis for a given dataset and model \n",
    "#Train the model, compute it's performance on a positive and negative data point \n",
    "def analyze(model,data,pos_index,neg_index):\n",
    "    model=train_model(model,data)\n",
    "    compute_performance(model,data)\n",
    "    pos_X,neg_X=extract_pos_and_neg_validation_sample(data,pos_index,neg_index)\n",
    "    ism_pos,ism_neg, gradinput_pos, gradinput_neg, dl_pos,dl_neg=interpret(model,pos_X,neg_X,data)\n",
    "    return pos_X, neg_X, ism_pos, ism_neg, gradinput_pos, gradinput_neg, dl_pos,dl_neg"
   ]
  },
  {
   "cell_type": "markdown",
   "metadata": {},
   "source": [
    "Finally, we set a random seed to ensure that all analyses in this tutorial are reproducible. "
   ]
  },
  {
   "cell_type": "code",
   "execution_count": 14,
   "metadata": {},
   "outputs": [],
   "source": [
    "# Making sure our results are reproducible\n",
    "from numpy.random import seed\n",
    "seed(1234)\n",
    "from tensorflow import set_random_seed\n",
    "set_random_seed(1234)"
   ]
  },
  {
   "cell_type": "markdown",
   "metadata": {},
   "source": [
    "## Getting simulation data <a name='3'>\n",
    "<a href=#outline>Home</a>\n",
    "\n",
    "\n",
    "DragoNN provides a set of simulation functions. Let's use the **print_available_simulations** function to examine the list of simulations supported by DragoNN:"
   ]
  },
  {
   "cell_type": "code",
   "execution_count": 15,
   "metadata": {},
   "outputs": [
    {
     "name": "stdout",
     "output_type": "stream",
     "text": [
      "simulate_differential_accessibility\n",
      "simulate_heterodimer_grammar\n",
      "simulate_motif_counting\n",
      "simulate_motif_density_localization\n",
      "simulate_multi_motif_embedding\n",
      "simulate_single_motif_detection\n"
     ]
    }
   ],
   "source": [
    "print_available_simulations()"
   ]
  },
  {
   "cell_type": "markdown",
   "metadata": {},
   "source": [
    "## Single Motif <a name='4'>\n",
    "<a href=#outline>Home</a>\n"
   ]
  },
  {
   "cell_type": "markdown",
   "metadata": {},
   "source": [
    "We begin with single motif detection of the TAL1_known4 motif: \n",
    "\n",
    "![play button](./primer_tutorial_images/TAL1_known4.png)\n",
    "Let's find out what parameters are needed for the simulation: "
   ]
  },
  {
   "cell_type": "code",
   "execution_count": 16,
   "metadata": {},
   "outputs": [
    {
     "name": "stdout",
     "output_type": "stream",
     "text": [
      "\n",
      "    Simulates two classes of seqeuences:\n",
      "        - Positive class sequence with a motif\n",
      "          embedded anywhere in the sequence\n",
      "        - Negative class sequence without the motif\n",
      "\n",
      "    Parameters\n",
      "    ----------\n",
      "    motif_name : str\n",
      "        encode motif name\n",
      "    seq_length : int\n",
      "        length of sequence\n",
      "    num_pos : int\n",
      "        number of positive class sequences\n",
      "    num_neg : int\n",
      "        number of negative class sequences\n",
      "    GC_fraction : float\n",
      "        GC fraction in background sequence\n",
      "\n",
      "    Returns\n",
      "    -------\n",
      "    sequence_arr : 1darray\n",
      "        Array with sequence strings.\n",
      "    y : 1darray\n",
      "        Array with positive/negative class labels.\n",
      "    embedding_arr: 1darray\n",
      "        Array of embedding objects.\n",
      "    \n"
     ]
    }
   ],
   "source": [
    "print_simulation_info(\"simulate_single_motif_detection\")"
   ]
  },
  {
   "cell_type": "markdown",
   "metadata": {},
   "source": [
    "In this binary simulation task, we simulate a negative set of 10K 500 bp random sequences and a positive set of 10K 500 bp random sequences with one instance of the TAL1 motif randomly embedded at any position."
   ]
  },
  {
   "cell_type": "code",
   "execution_count": 17,
   "metadata": {},
   "outputs": [],
   "source": [
    "#Define simulation parameters \n",
    "tal1_parameters = {\n",
    "    \"motif_name\": \"TAL1_known4\",\n",
    "    \"seq_length\": 500, \n",
    "    \"num_pos\": 10000,\n",
    "    \"num_neg\": 10000,\n",
    "    \"GC_fraction\": 0.4}\n",
    "\n",
    "#Get simulation data \n",
    "tal1_data = get_simulation_data(\"simulate_single_motif_detection\",\n",
    "                                      tal1_parameters,\n",
    "                                      validation_set_size=3200, test_set_size=4000)\n"
   ]
  },
  {
   "cell_type": "markdown",
   "metadata": {},
   "source": [
    "We define the convolutional neural network model architecture: "
   ]
  },
  {
   "cell_type": "code",
   "execution_count": 18,
   "metadata": {},
   "outputs": [],
   "source": [
    "#Define the optimal model architecture in keras (Refer to Primer Tutorial 2)\n",
    "tal1_model=Sequential() \n",
    "tal1_model.add(Conv2D(filters=10,kernel_size=(1,15),input_shape=tal1_data.X_train.shape[1::]))\n",
    "tal1_model.add(Activation('relu'))\n",
    "tal1_model.add(MaxPooling2D(pool_size=(1,35)))\n",
    "tal1_model.add(Flatten())\n",
    "tal1_model.add(Dense(1))\n",
    "tal1_model.add(Activation(\"sigmoid\"))\n",
    "\n",
    "##compile the model, specifying the Adam optimizer, and binary cross-entropy loss. \n",
    "tal1_model.compile(optimizer='adam',\n",
    "                               loss='binary_crossentropy')"
   ]
  },
  {
   "cell_type": "code",
   "execution_count": null,
   "metadata": {},
   "outputs": [
    {
     "name": "stdout",
     "output_type": "stream",
     "text": [
      "Training Data:\n",
      "Loss: 0.6926\tBalanced Accuracy: 52.35%\t auROC: 0.531\t auPRC: 0.524\n",
      "\tRecall at 5%|10%|20% FDR: 0.0%|0.0%|0.0%\t Num Positives: 6401\t Num Negatives: 6399\n",
      "Validation Data:\n",
      "Loss: 0.6966\tBalanced Accuracy: 50.91%\t auROC: 0.504\t auPRC: 0.506\n",
      "\tRecall at 5%|10%|20% FDR: 0.0%|0.0%|0.0%\t Num Positives: 1617\t Num Negatives: 1583\n",
      "Training Data:\n",
      "Loss: 0.6887\tBalanced Accuracy: 53.47%\t auROC: 0.557\t auPRC: 0.547\n",
      "\tRecall at 5%|10%|20% FDR: 0.0%|0.0%|0.0%\t Num Positives: 6401\t Num Negatives: 6399\n",
      "Validation Data:\n",
      "Loss: 0.6954\tBalanced Accuracy: 50.67%\t auROC: 0.515\t auPRC: 0.515\n",
      "\tRecall at 5%|10%|20% FDR: 0.0%|0.0%|0.0%\t Num Positives: 1617\t Num Negatives: 1583\n",
      "Training Data:\n",
      "Loss: 0.6845\tBalanced Accuracy: 55.63%\t auROC: 0.582\t auPRC: 0.572\n",
      "\tRecall at 5%|10%|20% FDR: 0.0%|0.0%|0.0%\t Num Positives: 6401\t Num Negatives: 6399\n",
      "Validation Data:\n",
      "Loss: 0.6933\tBalanced Accuracy: 52.67%\t auROC: 0.531\t auPRC: 0.528\n",
      "\tRecall at 5%|10%|20% FDR: 0.0%|0.0%|0.0%\t Num Positives: 1617\t Num Negatives: 1583\n",
      "Training Data:\n",
      "Loss: 0.6802\tBalanced Accuracy: 57.14%\t auROC: 0.608\t auPRC: 0.598\n",
      "\tRecall at 5%|10%|20% FDR: 0.0%|0.0%|0.4%\t Num Positives: 6401\t Num Negatives: 6399\n",
      "Validation Data:\n",
      "Loss: 0.6910\tBalanced Accuracy: 52.98%\t auROC: 0.547\t auPRC: 0.544\n",
      "\tRecall at 5%|10%|20% FDR: 0.0%|0.0%|0.0%\t Num Positives: 1617\t Num Negatives: 1583\n",
      "Training Data:\n",
      "Loss: 0.6740\tBalanced Accuracy: 59.34%\t auROC: 0.631\t auPRC: 0.624\n",
      "\tRecall at 5%|10%|20% FDR: 0.1%|0.3%|4.6%\t Num Positives: 6401\t Num Negatives: 6399\n",
      "Validation Data:\n",
      "Loss: 0.6857\tBalanced Accuracy: 54.04%\t auROC: 0.565\t auPRC: 0.565\n",
      "\tRecall at 5%|10%|20% FDR: 0.0%|0.0%|0.0%\t Num Positives: 1617\t Num Negatives: 1583\n",
      "Training Data:\n",
      "Loss: 0.6683\tBalanced Accuracy: 61.02%\t auROC: 0.652\t auPRC: 0.648\n",
      "\tRecall at 5%|10%|20% FDR: 0.1%|1.0%|8.3%\t Num Positives: 6401\t Num Negatives: 6399\n",
      "Validation Data:\n",
      "Loss: 0.6809\tBalanced Accuracy: 56.05%\t auROC: 0.588\t auPRC: 0.591\n",
      "\tRecall at 5%|10%|20% FDR: 0.0%|0.0%|0.3%\t Num Positives: 1617\t Num Negatives: 1583\n",
      "Training Data:\n",
      "Loss: 0.6627\tBalanced Accuracy: 61.64%\t auROC: 0.673\t auPRC: 0.670\n",
      "\tRecall at 5%|10%|20% FDR: 0.2%|1.3%|13.2%\t Num Positives: 6401\t Num Negatives: 6399\n",
      "Validation Data:\n",
      "Loss: 0.6768\tBalanced Accuracy: 56.84%\t auROC: 0.610\t auPRC: 0.615\n",
      "\tRecall at 5%|10%|20% FDR: 0.1%|0.6%|3.0%\t Num Positives: 1617\t Num Negatives: 1583\n",
      "Training Data:\n",
      "Loss: 0.6547\tBalanced Accuracy: 62.47%\t auROC: 0.694\t auPRC: 0.692\n",
      "\tRecall at 5%|10%|20% FDR: 0.0%|3.5%|18.6%\t Num Positives: 6401\t Num Negatives: 6399\n",
      "Validation Data:\n",
      "Loss: 0.6679\tBalanced Accuracy: 58.79%\t auROC: 0.638\t auPRC: 0.645\n",
      "\tRecall at 5%|10%|20% FDR: 0.6%|0.6%|8.3%\t Num Positives: 1617\t Num Negatives: 1583\n",
      "Training Data:\n",
      "Loss: 0.6442\tBalanced Accuracy: 64.97%\t auROC: 0.712\t auPRC: 0.709\n",
      "\tRecall at 5%|10%|20% FDR: 0.4%|5.1%|23.3%\t Num Positives: 6401\t Num Negatives: 6399\n",
      "Validation Data:\n",
      "Loss: 0.6590\tBalanced Accuracy: 60.78%\t auROC: 0.661\t auPRC: 0.666\n",
      "\tRecall at 5%|10%|20% FDR: 1.4%|2.4%|14.8%\t Num Positives: 1617\t Num Negatives: 1583\n",
      "Training Data:\n",
      "Loss: 0.6334\tBalanced Accuracy: 66.13%\t auROC: 0.728\t auPRC: 0.723\n",
      "\tRecall at 5%|10%|20% FDR: 0.0%|7.1%|27.5%\t Num Positives: 6401\t Num Negatives: 6399\n",
      "Validation Data:\n",
      "Loss: 0.6488\tBalanced Accuracy: 62.04%\t auROC: 0.681\t auPRC: 0.686\n",
      "\tRecall at 5%|10%|20% FDR: 1.9%|3.7%|19.9%\t Num Positives: 1617\t Num Negatives: 1583\n",
      "Training Data:\n",
      "Loss: 0.6229\tBalanced Accuracy: 67.19%\t auROC: 0.741\t auPRC: 0.734\n",
      "\tRecall at 5%|10%|20% FDR: 3.1%|7.1%|32.0%\t Num Positives: 6401\t Num Negatives: 6399\n",
      "Validation Data:\n",
      "Loss: 0.6393\tBalanced Accuracy: 63.53%\t auROC: 0.697\t auPRC: 0.701\n",
      "\tRecall at 5%|10%|20% FDR: 2.3%|2.7%|25.6%\t Num Positives: 1617\t Num Negatives: 1583\n",
      "Training Data:\n",
      "Loss: 0.6124\tBalanced Accuracy: 67.99%\t auROC: 0.751\t auPRC: 0.743\n",
      "\tRecall at 5%|10%|20% FDR: 3.4%|6.5%|33.2%\t Num Positives: 6401\t Num Negatives: 6399\n",
      "Validation Data:\n",
      "Loss: 0.6304\tBalanced Accuracy: 64.75%\t auROC: 0.710\t auPRC: 0.712\n",
      "\tRecall at 5%|10%|20% FDR: 2.0%|3.8%|27.1%\t Num Positives: 1617\t Num Negatives: 1583\n",
      "Training Data:\n",
      "Loss: 0.6127\tBalanced Accuracy: 67.00%\t auROC: 0.762\t auPRC: 0.753\n",
      "\tRecall at 5%|10%|20% FDR: 2.5%|9.1%|37.5%\t Num Positives: 6401\t Num Negatives: 6399\n",
      "Validation Data:\n",
      "Loss: 0.6297\tBalanced Accuracy: 64.11%\t auROC: 0.723\t auPRC: 0.724\n",
      "\tRecall at 5%|10%|20% FDR: 2.0%|4.3%|29.1%\t Num Positives: 1617\t Num Negatives: 1583\n",
      "Training Data:\n",
      "Loss: 0.6002\tBalanced Accuracy: 67.67%\t auROC: 0.778\t auPRC: 0.767\n",
      "\tRecall at 5%|10%|20% FDR: 3.4%|11.5%|40.7%\t Num Positives: 6401\t Num Negatives: 6399\n",
      "Validation Data:\n",
      "Loss: 0.6215\tBalanced Accuracy: 66.00%\t auROC: 0.740\t auPRC: 0.741\n",
      "\tRecall at 5%|10%|20% FDR: 2.5%|6.2%|34.3%\t Num Positives: 1617\t Num Negatives: 1583\n",
      "Training Data:\n",
      "Loss: 0.5800\tBalanced Accuracy: 71.41%\t auROC: 0.791\t auPRC: 0.780\n",
      "\tRecall at 5%|10%|20% FDR: 3.2%|11.6%|45.5%\t Num Positives: 6401\t Num Negatives: 6399\n",
      "Validation Data:\n",
      "Loss: 0.6001\tBalanced Accuracy: 68.30%\t auROC: 0.756\t auPRC: 0.756\n",
      "\tRecall at 5%|10%|20% FDR: 3.0%|7.6%|41.8%\t Num Positives: 1617\t Num Negatives: 1583\n",
      "Training Data:\n",
      "Loss: 0.5711\tBalanced Accuracy: 71.98%\t auROC: 0.803\t auPRC: 0.791\n",
      "\tRecall at 5%|10%|20% FDR: 2.2%|16.7%|50.4%\t Num Positives: 6401\t Num Negatives: 6399\n",
      "Validation Data:\n",
      "Loss: 0.5921\tBalanced Accuracy: 69.26%\t auROC: 0.769\t auPRC: 0.769\n",
      "\tRecall at 5%|10%|20% FDR: 3.2%|13.5%|44.8%\t Num Positives: 1617\t Num Negatives: 1583\n",
      "Training Data:\n",
      "Loss: 0.5576\tBalanced Accuracy: 73.87%\t auROC: 0.813\t auPRC: 0.800\n",
      "\tRecall at 5%|10%|20% FDR: 2.1%|19.7%|53.4%\t Num Positives: 6401\t Num Negatives: 6399\n",
      "Validation Data:\n",
      "Loss: 0.5778\tBalanced Accuracy: 70.97%\t auROC: 0.781\t auPRC: 0.780\n",
      "\tRecall at 5%|10%|20% FDR: 3.8%|16.1%|48.1%\t Num Positives: 1617\t Num Negatives: 1583\n",
      "Training Data:\n",
      "Loss: 0.5495\tBalanced Accuracy: 74.00%\t auROC: 0.822\t auPRC: 0.809\n",
      "\tRecall at 5%|10%|20% FDR: 2.1%|20.9%|57.2%\t Num Positives: 6401\t Num Negatives: 6399\n",
      "Validation Data:\n",
      "Loss: 0.5693\tBalanced Accuracy: 71.47%\t auROC: 0.791\t auPRC: 0.790\n",
      "\tRecall at 5%|10%|20% FDR: 4.5%|17.6%|50.0%\t Num Positives: 1617\t Num Negatives: 1583\n",
      "Training Data:\n",
      "Loss: 0.5352\tBalanced Accuracy: 75.78%\t auROC: 0.833\t auPRC: 0.819\n",
      "\tRecall at 5%|10%|20% FDR: 2.7%|26.5%|63.6%\t Num Positives: 6401\t Num Negatives: 6399\n",
      "Validation Data:\n",
      "Loss: 0.5565\tBalanced Accuracy: 72.98%\t auROC: 0.802\t auPRC: 0.800\n",
      "\tRecall at 5%|10%|20% FDR: 1.4%|21.3%|54.4%\t Num Positives: 1617\t Num Negatives: 1583\n",
      "Training Data:\n",
      "Loss: 0.5268\tBalanced Accuracy: 75.17%\t auROC: 0.844\t auPRC: 0.830\n",
      "\tRecall at 5%|10%|20% FDR: 2.7%|32.2%|68.3%\t Num Positives: 6401\t Num Negatives: 6399\n",
      "Validation Data:\n",
      "Loss: 0.5517\tBalanced Accuracy: 72.74%\t auROC: 0.813\t auPRC: 0.811\n",
      "\tRecall at 5%|10%|20% FDR: 7.5%|25.4%|58.1%\t Num Positives: 1617\t Num Negatives: 1583\n",
      "Training Data:\n",
      "Loss: 0.5117\tBalanced Accuracy: 77.74%\t auROC: 0.852\t auPRC: 0.837\n",
      "\tRecall at 5%|10%|20% FDR: 2.5%|35.3%|71.5%\t Num Positives: 6401\t Num Negatives: 6399\n",
      "Validation Data:\n",
      "Loss: 0.5346\tBalanced Accuracy: 74.74%\t auROC: 0.822\t auPRC: 0.819\n",
      "\tRecall at 5%|10%|20% FDR: 7.7%|29.1%|63.4%\t Num Positives: 1617\t Num Negatives: 1583\n",
      "Training Data:\n",
      "Loss: 0.5007\tBalanced Accuracy: 78.44%\t auROC: 0.859\t auPRC: 0.845\n",
      "\tRecall at 5%|10%|20% FDR: 2.5%|37.3%|74.4%\t Num Positives: 6401\t Num Negatives: 6399\n",
      "Validation Data:\n",
      "Loss: 0.5241\tBalanced Accuracy: 75.95%\t auROC: 0.831\t auPRC: 0.827\n",
      "\tRecall at 5%|10%|20% FDR: 4.1%|31.9%|66.7%\t Num Positives: 1617\t Num Negatives: 1583\n",
      "Training Data:\n",
      "Loss: 0.4873\tBalanced Accuracy: 79.23%\t auROC: 0.868\t auPRC: 0.853\n",
      "\tRecall at 5%|10%|20% FDR: 2.5%|40.5%|77.6%\t Num Positives: 6401\t Num Negatives: 6399\n",
      "Validation Data:\n",
      "Loss: 0.5126\tBalanced Accuracy: 75.96%\t auROC: 0.840\t auPRC: 0.835\n",
      "\tRecall at 5%|10%|20% FDR: 3.9%|35.5%|68.8%\t Num Positives: 1617\t Num Negatives: 1583\n",
      "Training Data:\n",
      "Loss: 0.4760\tBalanced Accuracy: 80.15%\t auROC: 0.876\t auPRC: 0.860\n",
      "\tRecall at 5%|10%|20% FDR: 2.3%|42.3%|80.2%\t Num Positives: 6401\t Num Negatives: 6399\n",
      "Validation Data:\n",
      "Loss: 0.5019\tBalanced Accuracy: 77.53%\t auROC: 0.848\t auPRC: 0.843\n",
      "\tRecall at 5%|10%|20% FDR: 4.1%|40.2%|70.4%\t Num Positives: 1617\t Num Negatives: 1583\n",
      "Training Data:\n",
      "Loss: 0.4640\tBalanced Accuracy: 80.83%\t auROC: 0.883\t auPRC: 0.868\n",
      "\tRecall at 5%|10%|20% FDR: 2.0%|47.4%|83.0%\t Num Positives: 6401\t Num Negatives: 6399\n",
      "Validation Data:\n",
      "Loss: 0.4923\tBalanced Accuracy: 77.67%\t auROC: 0.856\t auPRC: 0.851\n",
      "\tRecall at 5%|10%|20% FDR: 4.2%|43.8%|74.1%\t Num Positives: 1617\t Num Negatives: 1583\n"
     ]
    },
    {
     "name": "stdout",
     "output_type": "stream",
     "text": [
      "Training Data:\n",
      "Loss: 0.4526\tBalanced Accuracy: 81.72%\t auROC: 0.889\t auPRC: 0.873\n",
      "\tRecall at 5%|10%|20% FDR: 13.0%|50.2%|84.6%\t Num Positives: 6401\t Num Negatives: 6399\n",
      "Validation Data:\n",
      "Loss: 0.4802\tBalanced Accuracy: 78.88%\t auROC: 0.863\t auPRC: 0.856\n",
      "\tRecall at 5%|10%|20% FDR: 4.9%|45.4%|77.9%\t Num Positives: 1617\t Num Negatives: 1583\n",
      "Training Data:\n",
      "Loss: 0.4416\tBalanced Accuracy: 82.30%\t auROC: 0.897\t auPRC: 0.881\n",
      "\tRecall at 5%|10%|20% FDR: 13.9%|54.8%|86.9%\t Num Positives: 6401\t Num Negatives: 6399\n",
      "Validation Data:\n",
      "Loss: 0.4717\tBalanced Accuracy: 79.46%\t auROC: 0.872\t auPRC: 0.865\n",
      "\tRecall at 5%|10%|20% FDR: 5.5%|49.2%|80.5%\t Num Positives: 1617\t Num Negatives: 1583\n",
      "Training Data:\n",
      "Loss: 0.4315\tBalanced Accuracy: 83.37%\t auROC: 0.902\t auPRC: 0.886\n",
      "\tRecall at 5%|10%|20% FDR: 16.1%|57.5%|88.8%\t Num Positives: 6401\t Num Negatives: 6399\n",
      "Validation Data:\n",
      "Loss: 0.4591\tBalanced Accuracy: 80.77%\t auROC: 0.878\t auPRC: 0.870\n",
      "\tRecall at 5%|10%|20% FDR: 4.8%|51.7%|82.7%\t Num Positives: 1617\t Num Negatives: 1583\n",
      "Training Data:\n",
      "Loss: 0.4185\tBalanced Accuracy: 84.20%\t auROC: 0.908\t auPRC: 0.893\n",
      "\tRecall at 5%|10%|20% FDR: 18.5%|62.2%|90.5%\t Num Positives: 6401\t Num Negatives: 6399\n",
      "Validation Data:\n",
      "Loss: 0.4478\tBalanced Accuracy: 81.34%\t auROC: 0.885\t auPRC: 0.878\n",
      "\tRecall at 5%|10%|20% FDR: 10.3%|56.5%|85.0%\t Num Positives: 1617\t Num Negatives: 1583\n",
      "Training Data:\n",
      "Loss: 0.4078\tBalanced Accuracy: 84.98%\t auROC: 0.913\t auPRC: 0.898\n",
      "\tRecall at 5%|10%|20% FDR: 20.0%|65.8%|91.9%\t Num Positives: 6401\t Num Negatives: 6399\n",
      "Validation Data:\n",
      "Loss: 0.4370\tBalanced Accuracy: 82.31%\t auROC: 0.892\t auPRC: 0.884\n",
      "\tRecall at 5%|10%|20% FDR: 5.1%|60.7%|87.0%\t Num Positives: 1617\t Num Negatives: 1583\n",
      "Training Data:\n",
      "Loss: 0.4020\tBalanced Accuracy: 85.75%\t auROC: 0.917\t auPRC: 0.902\n",
      "\tRecall at 5%|10%|20% FDR: 20.6%|68.8%|92.8%\t Num Positives: 6401\t Num Negatives: 6399\n",
      "Validation Data:\n",
      "Loss: 0.4284\tBalanced Accuracy: 83.60%\t auROC: 0.897\t auPRC: 0.889\n",
      "\tRecall at 5%|10%|20% FDR: 5.3%|63.9%|88.4%\t Num Positives: 1617\t Num Negatives: 1583\n",
      "Training Data:\n",
      "Loss: 0.3899\tBalanced Accuracy: 86.25%\t auROC: 0.921\t auPRC: 0.907\n",
      "\tRecall at 5%|10%|20% FDR: 21.3%|71.8%|93.7%\t Num Positives: 6401\t Num Negatives: 6399\n",
      "Validation Data:\n",
      "Loss: 0.4181\tBalanced Accuracy: 84.10%\t auROC: 0.901\t auPRC: 0.894\n",
      "\tRecall at 5%|10%|20% FDR: 27.6%|67.4%|89.9%\t Num Positives: 1617\t Num Negatives: 1583\n",
      "Training Data:\n",
      "Loss: 0.3823\tBalanced Accuracy: 86.66%\t auROC: 0.923\t auPRC: 0.909\n",
      "\tRecall at 5%|10%|20% FDR: 28.1%|73.5%|94.0%\t Num Positives: 6401\t Num Negatives: 6399\n",
      "Validation Data:\n",
      "Loss: 0.4106\tBalanced Accuracy: 84.60%\t auROC: 0.904\t auPRC: 0.897\n",
      "\tRecall at 5%|10%|20% FDR: 31.0%|68.2%|91.0%\t Num Positives: 1617\t Num Negatives: 1583\n",
      "Training Data:\n",
      "Loss: 0.3764\tBalanced Accuracy: 87.09%\t auROC: 0.925\t auPRC: 0.912\n",
      "\tRecall at 5%|10%|20% FDR: 32.8%|76.9%|94.2%\t Num Positives: 6401\t Num Negatives: 6399\n",
      "Validation Data:\n",
      "Loss: 0.4042\tBalanced Accuracy: 85.15%\t auROC: 0.906\t auPRC: 0.900\n",
      "\tRecall at 5%|10%|20% FDR: 31.4%|70.1%|91.6%\t Num Positives: 1617\t Num Negatives: 1583\n",
      "Training Data:\n",
      "Loss: 0.3689\tBalanced Accuracy: 86.90%\t auROC: 0.928\t auPRC: 0.916\n",
      "\tRecall at 5%|10%|20% FDR: 36.9%|79.8%|94.5%\t Num Positives: 6401\t Num Negatives: 6399\n",
      "Validation Data:\n",
      "Loss: 0.3998\tBalanced Accuracy: 84.57%\t auROC: 0.909\t auPRC: 0.903\n",
      "\tRecall at 5%|10%|20% FDR: 34.9%|72.7%|92.3%\t Num Positives: 1617\t Num Negatives: 1583\n",
      "Training Data:\n",
      "Loss: 0.3624\tBalanced Accuracy: 87.39%\t auROC: 0.930\t auPRC: 0.918\n",
      "\tRecall at 5%|10%|20% FDR: 42.8%|81.1%|94.6%\t Num Positives: 6401\t Num Negatives: 6399\n",
      "Validation Data:\n",
      "Loss: 0.3932\tBalanced Accuracy: 85.22%\t auROC: 0.911\t auPRC: 0.905\n",
      "\tRecall at 5%|10%|20% FDR: 39.2%|74.2%|92.8%\t Num Positives: 1617\t Num Negatives: 1583\n",
      "Training Data:\n",
      "Loss: 0.3570\tBalanced Accuracy: 87.80%\t auROC: 0.931\t auPRC: 0.919\n",
      "\tRecall at 5%|10%|20% FDR: 43.9%|82.0%|94.6%\t Num Positives: 6401\t Num Negatives: 6399\n",
      "Validation Data:\n",
      "Loss: 0.3872\tBalanced Accuracy: 85.67%\t auROC: 0.912\t auPRC: 0.906\n",
      "\tRecall at 5%|10%|20% FDR: 38.0%|74.3%|92.9%\t Num Positives: 1617\t Num Negatives: 1583\n",
      "Training Data:\n",
      "Loss: 0.3519\tBalanced Accuracy: 87.77%\t auROC: 0.932\t auPRC: 0.920\n",
      "\tRecall at 5%|10%|20% FDR: 45.3%|82.6%|94.6%\t Num Positives: 6401\t Num Negatives: 6399\n",
      "Validation Data:\n",
      "Loss: 0.3842\tBalanced Accuracy: 85.65%\t auROC: 0.913\t auPRC: 0.907\n",
      "\tRecall at 5%|10%|20% FDR: 39.2%|75.5%|93.0%\t Num Positives: 1617\t Num Negatives: 1583\n",
      "Training Data:\n",
      "Loss: 0.3470\tBalanced Accuracy: 88.17%\t auROC: 0.934\t auPRC: 0.922\n",
      "\tRecall at 5%|10%|20% FDR: 46.5%|83.4%|94.6%\t Num Positives: 6401\t Num Negatives: 6399\n",
      "Validation Data:\n",
      "Loss: 0.3791\tBalanced Accuracy: 86.11%\t auROC: 0.914\t auPRC: 0.909\n",
      "\tRecall at 5%|10%|20% FDR: 42.5%|76.6%|92.9%\t Num Positives: 1617\t Num Negatives: 1583\n",
      "Training Data:\n",
      "Loss: 0.3427\tBalanced Accuracy: 88.47%\t auROC: 0.934\t auPRC: 0.923\n",
      "\tRecall at 5%|10%|20% FDR: 48.2%|83.9%|94.6%\t Num Positives: 6401\t Num Negatives: 6399\n",
      "Validation Data:\n",
      "Loss: 0.3751\tBalanced Accuracy: 86.26%\t auROC: 0.915\t auPRC: 0.909\n",
      "\tRecall at 5%|10%|20% FDR: 42.1%|77.0%|92.9%\t Num Positives: 1617\t Num Negatives: 1583\n"
     ]
    }
   ],
   "source": [
    "pos_X, neg_X, ism_pos, ism_neg, gradinput_pos, gradinput_neg, dl_pos, dl_neg=analyze(tal1_model,tal1_data,1,1)"
   ]
  },
  {
   "cell_type": "markdown",
   "metadata": {},
   "source": [
    "Let's zoom in to the portion of the deepLIFT track with the strongest signal:"
   ]
  },
  {
   "cell_type": "code",
   "execution_count": null,
   "metadata": {},
   "outputs": [],
   "source": [
    "plot_seq_importance(dl_pos,pos_X,xlim=(220,275),title=\"Positive Zoomed\")\n",
    "plot_seq_importance(dl_neg,neg_X,xlim=(220,275),title=\"Negative Zoomed\")"
   ]
  },
  {
   "cell_type": "markdown",
   "metadata": {},
   "source": [
    "## Homotypic motif density detection <a name='5'>\n",
    "<a href=#outline>Home</a>"
   ]
  },
  {
   "cell_type": "code",
   "execution_count": null,
   "metadata": {},
   "outputs": [],
   "source": [
    "#Define simulation parameters \n",
    "density_detection_parameters={\n",
    "    \"motif_name\": \"TAL1_known4\",\n",
    "    \"seq_length\": 500,\n",
    "    \"neg_counts\":[0,2],\n",
    "    \"pos_counts\":[3,5],\n",
    "    \"num_pos\": 10000,\n",
    "    \"num_neg\": 10000,\n",
    "    \"GC_fraction\":0.4\n",
    "}\n",
    "\n",
    "#Get simulation data\n",
    "density_detection_data=get_simulation_data(\"simulate_motif_counting\",\n",
    "                               density_detection_parameters,\n",
    "                               validation_set_size=3200,test_set_size=4000)\n",
    "\n"
   ]
  },
  {
   "cell_type": "code",
   "execution_count": null,
   "metadata": {},
   "outputs": [],
   "source": [
    "#Define the optimal model architecture in keras (Refer to Primer Tutorial 2)\n",
    "density_detection_model=Sequential() \n",
    "density_detection_model.add(Conv2D(filters=10,kernel_size=(1,15),input_shape=density_detection_data.X_train.shape[1::]))\n",
    "density_detection_model.add(Activation('relu'))\n",
    "density_detection_model.add(MaxPooling2D(pool_size=(1,35)))\n",
    "density_detection_model.add(Flatten())\n",
    "density_detection_model.add(Dense(1))\n",
    "density_detection_model.add(Activation(\"sigmoid\"))\n",
    "\n",
    "##compile the model, specifying the Adam optimizer, and binary cross-entropy loss. \n",
    "density_detection_model.compile(optimizer='adam',\n",
    "                               loss='binary_crossentropy')\n"
   ]
  },
  {
   "cell_type": "code",
   "execution_count": null,
   "metadata": {},
   "outputs": [],
   "source": [
    "pos_X, neg_X, ism_pos, ism_neg, dl_pos, dl_neg=analyze(density_detection_model,density_detection_data,1,1)"
   ]
  },
  {
   "cell_type": "code",
   "execution_count": null,
   "metadata": {},
   "outputs": [],
   "source": [
    "plot_seq_importance(dl_pos,pos_X,xlim=(200,350),title=\"Positive, Zoomed\")\n",
    "plot_seq_importance(dl_neg,neg_X,xlim=(200,350),title=\"Negative, Zoomed\")"
   ]
  },
  {
   "cell_type": "markdown",
   "metadata": {},
   "source": [
    "## Homotypic motif density localization <a name='6'>\n",
    "<a href=#outline>Home</a>"
   ]
  },
  {
   "cell_type": "code",
   "execution_count": null,
   "metadata": {},
   "outputs": [],
   "source": [
    "#Define simulation parameters \n",
    "density_localization_parameters = {\n",
    "    \"motif_name\": \"TAL1_known4\",\n",
    "    \"seq_length\": 1000,\n",
    "    \"center_size\": 150,\n",
    "    \"min_motif_counts\": 2,\n",
    "    \"max_motif_counts\": 4, \n",
    "    \"num_pos\": 10000,\n",
    "    \"num_neg\": 10000,\n",
    "    \"GC_fraction\": 0.4}\n",
    "\n",
    "#Get simulation data\n",
    "density_localization_data=get_simulation_data(\"simulate_motif_density_localization\",\n",
    "                               density_localization_parameters,\n",
    "                               validation_set_size=3200,test_set_size=4000)\n",
    "\n"
   ]
  },
  {
   "cell_type": "code",
   "execution_count": null,
   "metadata": {},
   "outputs": [],
   "source": [
    "#Define the optimal model architecture in keras (Refer to Primer Tutorial 2)\n",
    "density_localization_model=Sequential() \n",
    "density_localization_model.add(Conv2D(filters=5,kernel_size=(1,10),input_shape=density_localization_data.X_train.shape[1::]))\n",
    "density_localization_model.add(Activation('relu'))\n",
    "density_localization_model.add(MaxPooling2D(pool_size=(1,10)))\n",
    "density_localization_model.add(Flatten())\n",
    "density_localization_model.add(Dense(1))\n",
    "density_localization_model.add(Activation(\"sigmoid\"))\n",
    "\n",
    "##compile the model, specifying the Adam optimizer, and binary cross-entropy loss. \n",
    "density_localization_model.compile(optimizer='adam',\n",
    "                               loss='binary_crossentropy')"
   ]
  },
  {
   "cell_type": "code",
   "execution_count": null,
   "metadata": {},
   "outputs": [],
   "source": [
    "pos_X, neg_X, ism_pos, ism_neg, dl_pos, dl_neg=analyze(density_localization_model,density_localization_data,1,1)"
   ]
  },
  {
   "cell_type": "code",
   "execution_count": null,
   "metadata": {},
   "outputs": [],
   "source": [
    "plot_seq_importance(dl_pos,pos_X,xlim=(220,275),title=\"Positive\")\n",
    "plot_seq_importance(dl_neg,neg_X,xlim=(220,275),title=\"Negatives\")"
   ]
  },
  {
   "cell_type": "markdown",
   "metadata": {},
   "source": [
    "## Multiple motifs (multi-task)<a name='7'>\n",
    "<a href=#outline>Home</a>"
   ]
  },
  {
   "cell_type": "code",
   "execution_count": null,
   "metadata": {},
   "outputs": [],
   "source": [
    "#Define simulation parameters \n",
    "multi_motif_parameters = {\n",
    "    \"motif_names\": [\"CTCF_known1\",\"ZNF143_known2\",\"SIX5_known1\"],\n",
    "    \"seq_length\": 500,\n",
    "    \"min_num_motifs\": 0,\n",
    "    \"max_num_motifs\": 1, \n",
    "    \"num_seqs\": 20000,\n",
    "    \"GC_fraction\": 0.4}\n",
    "\n",
    "#Get simulation data\n",
    "multi_motif_data=get_simulation_data(\"simulate_multi_motif_embedding\",\n",
    "                               multi_motif_parameters,\n",
    "                               validation_set_size=3200,test_set_size=4000)\n",
    "\n"
   ]
  },
  {
   "cell_type": "code",
   "execution_count": null,
   "metadata": {},
   "outputs": [],
   "source": [
    "#Define the optimal model architecture in keras (Refer to Primer Tutorial 2)\n",
    "multi_motif_model=Sequential() \n",
    "multi_motif_model.add(Conv2D(filters=20,kernel_size=(1,20),input_shape=multi_motif_data.X_train.shape[1::]))\n",
    "multi_motif_model.add(Activation('relu'))\n",
    "multi_motif_model.add(MaxPooling2D(pool_size=(1,10)))\n",
    "multi_motif_model.add(Flatten())\n",
    "multi_motif_model.add(Dense(1))\n",
    "multi_motif_model.add(Activation(\"sigmoid\"))\n",
    "\n",
    "##compile the model, specifying the Adam optimizer, and binary cross-entropy loss. \n",
    "multi_motif_model.compile(optimizer='adam',\n",
    "                               loss='binary_crossentropy')"
   ]
  },
  {
   "cell_type": "code",
   "execution_count": null,
   "metadata": {},
   "outputs": [],
   "source": [
    "pos_X, neg_X, ism_pos, ism_neg, dl_pos, dl_neg=analyze(multi_motif_model, multi_motif_data,1,1)"
   ]
  },
  {
   "cell_type": "code",
   "execution_count": null,
   "metadata": {},
   "outputs": [],
   "source": [
    "print(\"Positive:\")\n",
    "plot_seq_importance(dl_pos,pos_X,xlim=(220,275))\n",
    "print(\"Negative:\")\n",
    "plot_seq_importance(dl_neg,neg_X,xlim=(220,275))"
   ]
  },
  {
   "cell_type": "markdown",
   "metadata": {},
   "source": [
    "## Heterotypic motifs spatial grammar<a name='8'>\n",
    "<a href=#outline>Home</a>"
   ]
  },
  {
   "cell_type": "code",
   "execution_count": null,
   "metadata": {},
   "outputs": [],
   "source": [
    "#Define simulation parameters \n",
    "heterodimer_parameters = {\n",
    "    \"motif1\": \"SPI1_known4\",\n",
    "    \"motif2\": \"IRF_known1\",\n",
    "    \"seq_length\": 500,\n",
    "    \"min_spacing\": 2,\n",
    "    \"max_spacing\": 5, \n",
    "    \"num_pos\": 10000,\n",
    "    \"num_neg\": 10000,\n",
    "    \"GC_fraction\": 0.4}\n",
    "\n",
    "#Get simulation data\n",
    "heterodimer_data=get_simulation_data(\"simulate_heterodimer_grammar\",\n",
    "                               heterodimer_parameters,\n",
    "                               validation_set_size=3200,test_set_size=4000)"
   ]
  },
  {
   "cell_type": "code",
   "execution_count": null,
   "metadata": {},
   "outputs": [],
   "source": [
    "heterodimer_model=Sequential()\n",
    "heterodimer_model.add(Conv2D(filters=15,kernel_size=(1,15),input_shape=input_shape))\n",
    "heterodimer_model.add(Activation(\"relu\"))\n",
    "heterodimer_model.add(Conv2D(filters=15,kernel_size=(1,15),input_shape=input_shape))\n",
    "heterodimer_model.add(Activation(\"relu\"))\n",
    "heterodimer_model.add(Conv2D(filters=15,kernel_size=(1,15),input_shape=input_shape))\n",
    "heterodimer_model.add(Activation(\"relu\"))\n",
    "heterodimer_model.add(MaxPooling2D(pool_size=(1,35)))    \n",
    "heterodimer_model.add(Flatten())\n",
    "heterodimer_model.add(Dense(num_tasks))\n",
    "heterodimer_model.add(Activation(\"sigmoid\"))\n",
    "heterodimer_model.compile(optimizer='adam',loss='binary_crossentropy')\n"
   ]
  },
  {
   "cell_type": "code",
   "execution_count": null,
   "metadata": {},
   "outputs": [],
   "source": [
    "analyze(heterodimer_model,heterodimer_data,1,1)"
   ]
  },
  {
   "cell_type": "code",
   "execution_count": null,
   "metadata": {},
   "outputs": [],
   "source": [
    "print(\"Positive:\")\n",
    "plot_seq_importance(dl_pos,pos_X,xlim=(220,275))\n",
    "print(\"Negative:\")\n",
    "plot_seq_importance(dl_neg,neg_X,xlim=(220,275))"
   ]
  },
  {
   "cell_type": "markdown",
   "metadata": {},
   "source": [
    "## Conclusions<a name='9'>\n",
    "<a href=#outline>Home</a>"
   ]
  },
  {
   "cell_type": "code",
   "execution_count": null,
   "metadata": {},
   "outputs": [],
   "source": []
  }
 ],
 "metadata": {
  "kernelspec": {
   "display_name": "Python 3",
   "language": "python",
   "name": "python3"
  },
  "language_info": {
   "codemirror_mode": {
    "name": "ipython",
    "version": 3
   },
   "file_extension": ".py",
   "mimetype": "text/x-python",
   "name": "python",
   "nbconvert_exporter": "python",
   "pygments_lexer": "ipython3",
   "version": "3.6.5"
  }
 },
 "nbformat": 4,
 "nbformat_minor": 2
}
