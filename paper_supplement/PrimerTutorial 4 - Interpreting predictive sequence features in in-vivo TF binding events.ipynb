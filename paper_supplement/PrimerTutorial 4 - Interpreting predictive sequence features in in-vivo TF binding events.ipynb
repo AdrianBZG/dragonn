{
 "cells": [
  {
   "cell_type": "markdown",
   "metadata": {},
   "source": [
    "Negative set: whole genome negatives vs shuffled reference \n",
    "\n",
    "Single tasking vs multi-tasking for SPI1, CTCF, ZNF143, SIX5 \n",
    "\n",
    "Wish list: Multi-input model w/ DNAse + Sequence as input  (Abhi,outperforms factor net within same cell type) "
   ]
  },
  {
   "cell_type": "code",
   "execution_count": null,
   "metadata": {},
   "outputs": [],
   "source": []
  }
 ],
 "metadata": {
  "kernelspec": {
   "display_name": "Python 3",
   "language": "python",
   "name": "python3"
  },
  "language_info": {
   "codemirror_mode": {
    "name": "ipython",
    "version": 3
   },
   "file_extension": ".py",
   "mimetype": "text/x-python",
   "name": "python",
   "nbconvert_exporter": "python",
   "pygments_lexer": "ipython3",
   "version": "3.6.5"
  }
 },
 "nbformat": 4,
 "nbformat_minor": 2
}
